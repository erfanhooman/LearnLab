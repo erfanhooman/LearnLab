{
 "cells": [
  {
   "cell_type": "markdown",
   "metadata": {},
   "source": [
    "<div style=\"direction:rtl;line-height:300%;\">\n",
    "<font face=\"XB Zar\" size=5>\n",
    "<div align=center>\n",
    "<font face=\"IranNastaliq\" size=30>\n",
    "<p></p><p></p>\n",
    "به نام خدا\n",
    "<p></p>\n",
    "</font>\n",
    "<font color=#FF7500>\n",
    "مراجع\n",
    "<div align=center>\n",
    "دانشگاه صنعتی شریف - دانشکده مهندسی کامپیوتر\n",
    "<div align=center>\n",
    " www.geeksforgeeks.org \n",
    "</font>\n",
    "<p></p>\n",
    "<font color=blue>\n",
    "داده‌ساختارها و الگوریتم‌ها\n",
    "</font>\n",
    "<p></p>\n",
    "ورکشاپ پایتون\n",
    "<div align=center>\n",
    "فرشته دهقانی\n",
    "</div>\n",
    "\n",
    "</font>\n",
    "<hr/>\n",
    "</div>"
   ]
  },
  {
   "cell_type": "code",
   "execution_count": 1,
   "metadata": {},
   "outputs": [
    {
     "name": "stdout",
     "output_type": "stream",
     "text": [
      "salam\n"
     ]
    }
   ],
   "source": [
    "print (\"salam\")"
   ]
  },
  {
   "cell_type": "code",
   "execution_count": 2,
   "metadata": {},
   "outputs": [
    {
     "name": "stdout",
     "output_type": "stream",
     "text": [
      "سلام\n"
     ]
    }
   ],
   "source": [
    "print (\"سلام\")"
   ]
  },
  {
   "cell_type": "markdown",
   "metadata": {},
   "source": [
    "سلام\n"
   ]
  },
  {
   "cell_type": "code",
   "execution_count": 3,
   "metadata": {},
   "outputs": [
    {
     "name": "stdout",
     "output_type": "stream",
     "text": [
      "b\n",
      "97\n"
     ]
    }
   ],
   "source": [
    "print(chr(98))\n",
    "print(ord('a'))"
   ]
  },
  {
   "cell_type": "code",
   "execution_count": 4,
   "metadata": {
    "scrolled": true
   },
   "outputs": [
    {
     "name": "stdout",
     "output_type": "stream",
     "text": [
      "Hello world\n"
     ]
    }
   ],
   "source": [
    "print(\"Hello world\")"
   ]
  },
  {
   "cell_type": "markdown",
   "metadata": {},
   "source": [
    "<div class=\"persian\" style=\"direction:rtl\">\n",
    "<font face=\"XB Zar\" size=3>\n",
    "<h3>متغیر‌ها</h3>\n",
    "پایتون یک زبان نوع-پویا\n",
    "(dynamically typed) است.\n",
    "ولی با این حال یک زبان\n",
    "strongly-typed\n",
    "است و مفسر(interpreter)\n",
    "نوع متغیرها را میداند و در اجرا لحاظ میکند.\n",
    "<br>\n",
    "مثال: تفاوت عملگر جمع بین دو عدد و دو رشته\n",
    "--\n",
    "توابع type و isinstance\n",
    "</font>\n",
    "</div>"
   ]
  },
  {
   "cell_type": "code",
   "execution_count": 5,
   "metadata": {},
   "outputs": [
    {
     "name": "stdout",
     "output_type": "stream",
     "text": [
      "5\n",
      "25\n"
     ]
    }
   ],
   "source": [
    "#Python is a dynamically typed language.\n",
    "#This means that the Python interpreter does type checking only as code runs, \n",
    "#and the type of a variable is allowed to change over its lifetime\n",
    "a = 2\n",
    "b = 3\n",
    "\n",
    "print(a+b)\n",
    "\n",
    "a = '2'\n",
    "b = '3'\n",
    "print(a+'5')  \n",
    "#print(a+2)  # Error!\n"
   ]
  },
  {
   "cell_type": "code",
   "execution_count": 3,
   "metadata": {},
   "outputs": [
    {
     "name": "stdout",
     "output_type": "stream",
     "text": [
      "<class 'str'>\n",
      "<class 'int'>\n",
      "<class 'list'>\n",
      "False\n",
      "True\n",
      "True\n"
     ]
    }
   ],
   "source": [
    "a = '213312'\n",
    "b = 1\n",
    "c = [1,2,'ali']\n",
    "print(type(a))\n",
    "print(type(b))\n",
    "print(type(c))\n",
    "print(isinstance(a, int))\n",
    "print(isinstance(a, str))\n",
    "print(isinstance(c, list))"
   ]
  },
  {
   "cell_type": "markdown",
   "metadata": {},
   "source": [
    "<div class=\"persian\" style=\"direction:rtl\">\n",
    "<font face=\"XB Zar\" size=3>\n",
    "<h3>متغیرهای عددی</h3>\n",
    "اعداد صحیح، اعشاری، مختلط و عملیات حسابی بین آنها\n",
    "</font>\n",
    "</div>"
   ]
  },
  {
   "cell_type": "markdown",
   "metadata": {},
   "source": [
    "<div class=\"persian\" style=\"direction:rtl\">\n",
    "<font face=\"XB Zar\" size=3>\n",
    "<h3>برخی انواع مهم داده:</h3>\n",
    "<ul>\n",
    "    <li>Boolean یا همان: True و False (به بزرگ و کوچک بودن حروف دقت کنید)</li>\n",
    "    <li>اعداد: int, long, float, complex</li>\n",
    "    <li>رشته‌ها</li>\n",
    "    <li>None: معادل NULL در C++</li>\n",
    "    <li>List و Tuple</li>\n",
    "    <li>دیکشنری</li>\n",
    "</ul>\n",
    "</font>\n",
    "</div>\n",
    "\n",
    "\n",
    "1. Numeric data types: <br>\n",
    "    int - holds signed integers of non-limited length.<br>\n",
    "    long- holds long integers(exists in Python 2.x, deprecated in Python 3.x).<br>\n",
    "    float- holds floating precision numbers and it’s accurate up to 15 decimal places.<br>\n",
    "    complex- holds complex numbers.<br>\n",
    "\n",
    "\n",
    "\n"
   ]
  },
  {
   "cell_type": "markdown",
   "metadata": {},
   "source": [
    "<strong>NOTE:</strong>\n",
    "Python 2 has a Max Int constant (sys.maxint) that defines the maximum integer value. Python 3 has removed the maximum limit of integers<br> \n",
    "and is only constrained by the system resources that the code runs on and the int and long data types were merged<br>\n"
   ]
  },
  {
   "cell_type": "code",
   "execution_count": 6,
   "metadata": {},
   "outputs": [
    {
     "name": "stdout",
     "output_type": "stream",
     "text": [
      "9.5\n",
      "<class 'float'>\n",
      "1\n",
      "1.7142857142857142\n",
      "(7+2j)\n",
      "<class 'complex'>\n",
      "5j\n",
      "312791953184952432773037647427847997734252247042927663351793818343238523007334595314754865270114370908249 <class 'int'>\n"
     ]
    }
   ],
   "source": [
    "a = 6         # int\n",
    "b = 4\n",
    "d = 3.5       # float (there is no double)\n",
    "c1 = 1+2j     # complex\n",
    "c2 = 2+1j\n",
    "e=None\n",
    "big_int = 123 ** 50\n",
    "\n",
    "print(a + d) \n",
    "print(type(a + d))\n",
    "\n",
    "print(a // b)   # int division\n",
    "print(a / d)\n",
    "\n",
    "print(c1 + a) # complex addition\n",
    "print(type(c1 + c2))\n",
    "\n",
    "print(c1 * c2) # complex multiplication\n",
    "\n",
    "print(big_int, type(big_int)) # python has big-integers?"
   ]
  },
  {
   "cell_type": "markdown",
   "metadata": {},
   "source": [
    "<div class=\"persian\" style=\"direction:rtl\">\n",
    "<font face=\"XB Zar\" size=3>\n",
    "<h3>رشته ها</h3>\n",
    "<ul>\n",
    "    <li>رشته ها و کارکتر ها</li>\n",
    "    <li>گیومه تکی و دوتایی</li>\n",
    "    <li>دسترسی به زیررشته: slicing یکی از قابلیت‌های بسیار مفید در پایتون است.\n",
    "    <li>مثبت یا منفی بوند عملگر جهت حرکت پیش فرض شروع و انتها را در صورت خالی بودن مقدار تغییر میدهد \n",
    "\n",
    "</li>\n",
    "\n",
    "</ul>\n",
    "\n",
    "\n",
    "</font>\n",
    "</div>"
   ]
  },
  {
   "cell_type": "code",
   "execution_count": 6,
   "metadata": {},
   "outputs": [
    {
     "name": "stdout",
     "output_type": "stream",
     "text": [
      "String with the use of Single Quotes: \n",
      "hello\n",
      "\n",
      "String with the use of Double Quotes: \n",
      "I'm a Geek\n",
      "\n",
      "String with the use of Triple Quotes: \n",
      "I'm a Geek and I live in a world of \"Geeks\"\n",
      "\n",
      "Creating a multiline String: \n",
      "Geeks \n",
      "            For \n",
      "            Life\n",
      "i'm a\" multiline\n",
      "            string!\n"
     ]
    }
   ],
   "source": [
    "# Python Program for Creation of String \n",
    "  \n",
    "# Creating a String  with single Quotes \n",
    "#As far as language syntax is concerned, there is no difference in single or double quoted string. \n",
    "#Both representations can be used interchangeably. \n",
    "#However, if either single or double quote is a part of the string itself, \n",
    "#then the string must be placed in double or single quotes respectively.\n",
    "\n",
    "String1='hello'\n",
    "String2=\"hello\"\n",
    "string3=\"I'm here\"\n",
    "string3='I\\'m here'\n",
    "\n",
    "print(\"String with the use of Single Quotes: \") \n",
    "print(String1) \n",
    "  \n",
    "# Creating a String with double Quotes \n",
    "String1 = \"I'm a Geek\"\n",
    "print(\"\\nString with the use of Double Quotes: \") \n",
    "print(String1) \n",
    "  \n",
    "# Creating a String \n",
    "# with triple Quotes \n",
    "String1 = '''I'm a Geek and I live in a world of \"Geeks\"'''\n",
    "print(\"\\nString with the use of Triple Quotes: \") \n",
    "print(String1) \n",
    "\n",
    "# Creating String with triple single or double Quotes allows multiple lines \n",
    "\n",
    "String1 = '''Geeks \n",
    "            For \n",
    "            Life'''\n",
    "String3 = \"\"\"i'm a\" multiline\n",
    "            string!\"\"\"\n",
    "print(\"\\nCreating a multiline String: \") \n",
    "print(String1) \n",
    "print(String3) \n"
   ]
  },
  {
   "cell_type": "code",
   "execution_count": 9,
   "metadata": {},
   "outputs": [
    {
     "name": "stdout",
     "output_type": "stream",
     "text": [
      "s1:  hello guys, i'm a string!\n",
      "s2: hi, i'm a string \n",
      " \ttoo!\n",
      "s3: Hi\n",
      "s4: i\"m dsjfkskkkkkkkkkkkkkkkkkkkkkkkkkkkkkkkkkkkkkkkkkkkkkkkkkkkkkkkkkkkkkkkkkkkkkkkkkkkkkkkkkkkkkkkkkkkkkkkkanother string\n",
      "s5: i'm another string\n",
      "\n",
      "haha haha haha \n",
      "number 2\n",
      "Hello world!\n",
      "HelloHelloHelloHello\n",
      "hello World!!!4\n"
     ]
    }
   ],
   "source": [
    "s1 = 'hello guys, i\\'m a string!'\n",
    "s2 = \"hi, i'm a string \\n \\ttoo!\"\n",
    "\n",
    "#or: s3 = '''i\\'m a multiline\n",
    "#string!'''\n",
    "s4 = 'i\"m dsjfkskkkkkkkkkkkkkkkkkkkkkkkkkkk\\\n",
    "kkkkkkkkkkkkkkkkkkkkkkkkkkkkkkkkkkkkkkkkkkkkkkkkk\\\n",
    "kkkkkkkkkkkkkkkkkkkkanother st\\\n",
    "ring'\n",
    "s3='Hi'\n",
    "s5 = \"i'm another st\\\n",
    "ring\\n\"\n",
    "\n",
    "print('s1: ' , s1)\n",
    "print('s2: ' + s2)\n",
    "print('s3: ' + s3)\n",
    "print('s4: ' + s4)\n",
    "print('s5: ' + s5)\n",
    "\n",
    "print('haha ' * 3)  # no comment\n",
    "# print('number ' + 2)-> TypeError:\n",
    "#  --> cannot concatenate 'str' and 'int' objects\n",
    "print('number ' + str(2))\n",
    "print(\"Hello\"+\" world!\")\n",
    "print(\"Hello\"*4)\n",
    "a = \"hello\"+\" World!!!\" +'4'\n",
    "print(a)"
   ]
  },
  {
   "attachments": {
    "slice.jpg": {
     "image/jpeg": "[encoded data removed]"
    }
   },
   "cell_type": "markdown",
   "metadata": {},
   "source": [
    "![slice.jpg](attachment:slice.jpg)"
   ]
  },
  {
   "cell_type": "code",
   "execution_count": 30,
   "metadata": {},
   "outputs": [
    {
     "name": "stdout",
     "output_type": "stream",
     "text": [
      "ekFrek\n"
     ]
    }
   ],
   "source": [
    "String1 = \"GeeksForGeeks\"\n",
    "print(String1[1:12:2])"
   ]
  },
  {
   "cell_type": "code",
   "execution_count": 10,
   "metadata": {},
   "outputs": [
    {
     "name": "stdout",
     "output_type": "stream",
     "text": [
      "Initial String: \n",
      "GeeksForGeeks\n",
      "\n",
      "First character of String is: \n",
      "G\n",
      "\n",
      "Last character of String is: \n",
      "s\n",
      "\n",
      "Slicing characters from 3-12: (doesn't contain 12'th index)\n",
      "String1[3:]:  ksForGeeks\n",
      "String1[3:12]:  ksForGeek\n",
      "String1[3:len(String1)]:  ksForGeeks\n",
      "String1[3:100]:  ksForGeeks\n",
      "\n",
      "Slicing characters between 3rd and 2nd last character: \n",
      "String1[3:-2] :  ksForGee\n",
      "*******\n",
      "String1[-2:3] :  \n",
      "String1[-2:3] :  \n",
      "String1[-2:3:-1] :  keeGroFs\n",
      "*******\n",
      "String1[-1] :  s\n",
      "String1[-13] : G\n"
     ]
    }
   ],
   "source": [
    "# Python Program to Access \n",
    "# characters of String \n",
    "\n",
    "String1 = \"GeeksForGeeks\"\n",
    "print(\"Initial String: \") \n",
    "print(String1) \n",
    "\n",
    "# Printing First character \n",
    "print(\"\\nFirst character of String is: \") \n",
    "print(String1[0]) \n",
    "  \n",
    "# Printing Last character \n",
    "print(\"\\nLast character of String is: \") \n",
    "print(String1[-1]) \n",
    "\n",
    "# Printing 3rd to 12th character \n",
    "print(\"\\nSlicing characters from 3-12: (doesn't contain 12'th index)\") \n",
    "print(\"String1[3:]: \" , String1[3:]) \n",
    "print(\"String1[3:12]: \" , String1[3:12]) \n",
    "print(\"String1[3:len(String1)]: \" , String1[3:len(String1)]) \n",
    "print(\"String1[3:100]: \" , String1[3:100]) \n",
    "# Printing characters between 3rd and 2nd last character \n",
    "print(\"\\nSlicing characters between \" +\n",
    "    \"3rd and 2nd last character: \") \n",
    "print(\"String1[3:-2] : \" , String1[3:-2])\n",
    "print (\"*******\")\n",
    "print(\"String1[-2:3] : \" ,String1[-2:3])\n",
    "print(\"String1[-2:3] : \" ,String1[-2:3])\n",
    "print(\"String1[-2:3:-1] : \" ,String1[-2:3:-1])\n",
    "print (\"*******\")\n",
    "print(\"String1[-1] : \",String1[-1]) \n",
    "print(\"String1[-13] :\" ,String1[-13]) \n",
    "\n",
    "#third element in index is direction and its default is +1\n",
    "#+:Right to left\n",
    "#-: left to right"
   ]
  },
  {
   "cell_type": "code",
   "execution_count": 14,
   "metadata": {},
   "outputs": [
    {
     "name": "stdout",
     "output_type": "stream",
     "text": [
      "1 <class 'str'>\n",
      "01234\n",
      "8\n",
      "s[0:8:2]:  0246\n",
      "s[1::-1]:  10\n",
      "s[::-1]:  9876543210\n"
     ]
    }
   ],
   "source": [
    "s = '0123456789'\n",
    "\n",
    "print(s[1], type(s[1]))\n",
    "print(s[0:5])\n",
    "print(s[-2])\n",
    "print('s[0:8:2]: ', s[0:8:2])\n",
    "print('s[1::-1]: ',s[1::-1])\n",
    "print('s[::-1]: ', s[::-1])\n",
    "\n",
    "#print(s[-11]) ->string index out of range"
   ]
  },
  {
   "cell_type": "markdown",
   "metadata": {},
   "source": [
    "<div class=\"persian\" style=\"direction:rtl\">\n",
    "<font face=\"XB Zar\" size=3>\n",
    "<h3>دریافت ورودی</h3>\n",
    "<ul>\n",
    "    ورودی تبدیل به رشته میشود، برای دریافت اعداد باید تبدیل نوع صریح صورت بگیرد\n",
    "</ul></font>\n",
    "</div>"
   ]
  },
  {
   "cell_type": "code",
   "execution_count": 15,
   "metadata": {},
   "outputs": [
    {
     "name": "stdin",
     "output_type": "stream",
     "text": [
      "Enter name :  ali\n"
     ]
    },
    {
     "name": "stdout",
     "output_type": "stream",
     "text": [
      "ali\n"
     ]
    },
    {
     "name": "stdin",
     "output_type": "stream",
     "text": [
      "Enter number : 12\n"
     ]
    },
    {
     "name": "stdout",
     "output_type": "stream",
     "text": [
      "<class 'int'>\n",
      "12\n"
     ]
    },
    {
     "name": "stdin",
     "output_type": "stream",
     "text": [
      "Enter number : 12\n"
     ]
    },
    {
     "name": "stdout",
     "output_type": "stream",
     "text": [
      "<class 'str'>\n",
      "12\n",
      "type of number <class 'str'>\n",
      "type of name <class 'str'>\n",
      "type of number <class 'int'>\n"
     ]
    }
   ],
   "source": [
    "name1 = input(\"Enter name : \") \n",
    "print(name1) \n",
    "\n",
    "num = int(input(\"Enter number :\") )\n",
    "print(type(num))\n",
    "print(num)\n",
    "\n",
    "num = input(\"Enter number :\") \n",
    "print(type(num))\n",
    "print(num)\n",
    "  \n",
    "# Printing type of input value \n",
    "print (\"type of number\", type(num)) \n",
    "print (\"type of name\", type(name1)) \n",
    "\n",
    "num1 = int(num) \n",
    "print (\"type of number\", type(num1)) "
   ]
  },
  {
   "cell_type": "markdown",
   "metadata": {},
   "source": [
    "<div class=\"persian\" style=\"direction:rtl\">\n",
    "<font face=\"XB Zar\" size=3>\n",
    "<h3>مساله</h3>\n",
    "<ul>\n",
    "    <li>یک رشته و دو عدد a و b بگیرد و زیر رشته از a تا b رشته اولیه را چاپ کند\n",
    "    (شامل b نباشد)\n",
    "    </li>\n",
    "    <li>ممکن است b از a کوچکتر باشد که در آن صورت باید معکوس زیررشته از a تا b خروجی داده شود\n",
    "    (کماکان شامل b نباشد)\n",
    "    </li>\n",
    "\n",
    "\n",
    "</ul>\n",
    "\n",
    "\n",
    "</font>\n",
    "</div>"
   ]
  },
  {
   "cell_type": "code",
   "execution_count": 1,
   "metadata": {},
   "outputs": [
    {
     "name": "stdin",
     "output_type": "stream",
     "text": [
      " 123456789\n",
      " 6\n",
      " 1\n"
     ]
    },
    {
     "name": "stdout",
     "output_type": "stream",
     "text": [
      "-1\n",
      "76543\n",
      "76543\n"
     ]
    }
   ],
   "source": [
    "s=input()\n",
    "a=int(input())\n",
    "b=int(input())\n",
    "temp=(b-a)//(abs(b-a))\n",
    "print(temp)\n",
    "print(s[a:b:temp])# devide by zero!\n",
    "\n",
    "## or\n",
    "\n",
    "print(s[a:b:2*(b>a)-1])\n",
    "\n",
    "    \n",
    "        "
   ]
  },
  {
   "cell_type": "markdown",
   "metadata": {},
   "source": [
    "<div class=\"persian\" style=\"direction:rtl\">\n",
    "<font face=\"XB Zar\" size=3>\n",
    "<h3>مباحث پیشرفته در رشته</h3>\n",
    "رشته های فرمت دار\n",
    "</font>\n",
    "</div>"
   ]
  },
  {
   "cell_type": "code",
   "execution_count": 2,
   "metadata": {},
   "outputs": [
    {
     "name": "stdout",
     "output_type": "stream",
     "text": [
      "GeeksforGeeks, A computer science portal for geeks.\n",
      "GeeksforGeeks, A computer science portal for geeks.\n",
      "GeeksforGeeks  A computer science portal GeeksforGeeks  for geeks.\n",
      "GeeksforGeeks A computer science portal GeeksforGeeks for geeks.\n",
      "This article is written in Python\n",
      "Hello, I am 18 years old, and my name is ali !\n",
      "Hello, I am 18 years old, and my name is GeeksforGeeks !\n",
      "My***Name***Is***James\n"
     ]
    }
   ],
   "source": [
    "\n",
    "# Python3 program to demonstarte \n",
    "# the str.format() method \n",
    "  \n",
    "# using format option in a simple string \n",
    "str1=\"GeeksforGeeks\"\n",
    "str2=\"GeeksforGeeks\"\n",
    "x=10\n",
    "print (\"{}, A computer science portal for geeks.\".format(\"GeeksforGeeks\")) \n",
    "print (\"{}, A computer science portal for geeks.\".format(x)) \n",
    "print (str1,\" A computer science portal\",str2,\" for geeks.\") \n",
    "print(f\"{str1} A computer science portal {str2} for geeks.\")\n",
    "  \n",
    "# using format option for a \n",
    "# value stored in a variable \n",
    "str = \"This article is written in {}\"\n",
    "print (str.format(\"Python\")) \n",
    "a=18\n",
    "# formatting a string using a numeric constant \n",
    "print (\"Hello, I am {} years old, and my name is {} !\".format(a,\"ali\"))  \n",
    "print(f\"Hello, I am {a} years old, and my name is {str1} !\")\n",
    "print('My', 'Name', 'Is', 'James', sep='***')\n"
   ]
  },
  {
   "cell_type": "code",
   "execution_count": 3,
   "metadata": {
    "scrolled": true
   },
   "outputs": [
    {
     "ename": "TypeError",
     "evalue": "'str' object does not support item assignment",
     "output_type": "error",
     "traceback": [
      "\u001b[1;31m---------------------------------------------------------------------------\u001b[0m",
      "\u001b[1;31mTypeError\u001b[0m                                 Traceback (most recent call last)",
      "Cell \u001b[1;32mIn[3], line 2\u001b[0m\n\u001b[0;32m      1\u001b[0m user \u001b[38;5;241m=\u001b[39m \u001b[38;5;124m'\u001b[39m\u001b[38;5;124mmahdi\u001b[39m\u001b[38;5;124m'\u001b[39m\n\u001b[1;32m----> 2\u001b[0m \u001b[43muser\u001b[49m\u001b[43m[\u001b[49m\u001b[38;5;241;43m0\u001b[39;49m\u001b[43m]\u001b[49m \u001b[38;5;241m=\u001b[39m \u001b[38;5;124m'\u001b[39m\u001b[38;5;124mM\u001b[39m\u001b[38;5;124m'\u001b[39m \u001b[38;5;66;03m# Uncomment this line to see what happens! \u001b[39;00m\n",
      "\u001b[1;31mTypeError\u001b[0m: 'str' object does not support item assignment"
     ]
    }
   ],
   "source": [
    "user = 'mahdi'\n",
    "user[0] = 'M' # Uncomment this line to see what happens! \n"
   ]
  },
  {
   "cell_type": "code",
   "execution_count": 11,
   "metadata": {},
   "outputs": [
    {
     "name": "stdout",
     "output_type": "stream",
     "text": [
      "2621852296688\n",
      "2621852624624\n",
      "text: aZcdefg!\n",
      "text: aZcdefg!\n",
      "text aZcdefg!\n",
      "TEXT: MAHDI, WELCOME!\n"
     ]
    }
   ],
   "source": [
    "text = 'abcdefg'\n",
    "print(id(text))\n",
    "text = text[:1] + 'Z' + text[2:]\n",
    "print(id(text))\n",
    "print('text: %s!' %text)\n",
    "print('text: {}!'.format(text))\n",
    "print(f'text {text}!')\n",
    "print('text: {user}, {greeting}!'.format(user=user, greeting='welcome').upper())"
   ]
  },
  {
   "cell_type": "code",
   "execution_count": 6,
   "metadata": {},
   "outputs": [
    {
     "name": "stdout",
     "output_type": "stream",
     "text": [
      "2621852359344\n",
      "2621846432688\n",
      "aZcdefg\n"
     ]
    }
   ],
   "source": [
    "text = 'abcdefg'\n",
    "print(id(text))\n",
    "#text[3]='Z'\n",
    "text = text[:1] + 'Z' + text[2:]\n",
    "print(id(text))\n",
    "print(text)\n",
    "#or use of list"
   ]
  },
  {
   "cell_type": "code",
   "execution_count": 31,
   "metadata": {},
   "outputs": [
    {
     "name": "stdout",
     "output_type": "stream",
     "text": [
      "2621852337776\n",
      "2621852872560\n",
      "text: aZcdefgAA!\n"
     ]
    }
   ],
   "source": [
    "print(id(text))\n",
    "text+='A'#immutable object(ops of list)\n",
    "print(id(text))\n",
    "print('text: %s!' %text)"
   ]
  },
  {
   "cell_type": "markdown",
   "metadata": {},
   "source": [
    "<div class=\"persian\" style=\"direction:rtl\">\n",
    "<font face=\"XB Zar\" size=3>\n",
    "<h3>بلاک‌ها</h3>\n",
    "    <br\\>\n",
    " <div class=\"persian\" style=\"direction:rtl\">\n",
    "نحوه‌ی indent کردن کد (تورفتگی کد) \n",
    "در پایتون بلاک‌ها را از یکدیگر جدا می‌کند.\n",
    "<br\\>\n",
    "یعنی پایتون شما را مجبور می‌کند که \n",
    "نحوه‌ی خاصی از تورفتگی‌های کد را استفاده کنید و همانند زبان‌های دیگر این مسئله در دست برنامه‌نویس نیست.\n",
    "<br/>\n",
    "هر tab یا تعدادی space می‌تواند یک مرحله تورفتگی را نشان بدهد.\n",
    "پس شما می‌توانید به انتخاب خودتان از space یا tab برای جدا کردن بلاک‌ها از یکدیگر استفاده کنید (در واقع در پایتون۲ هر ۸ space برابر یک tab است)\n",
    "اما بهتر است که این دو روش را با هم استفاده نکنید. به این دلیل که هم خوانایی کد را به شدت پایین می‌آورد و هم ترکیب کردن دو کد مختلف که یکی از tab و دیگری از space استفاده می‌کند بسیار می‌تواند سخت باشد. همچنین توصیه می‌شود فقط از space برای این کار استفاده کنید.\n",
    "     <br>\n",
    "      زیرا  در ویرایشگرهای IDE و کدهای مختلف، طول tab ممکن است متفاوت باشد، (معمولاً 4 یا 8 فاصله). اگر برنامه در ویرایشگرهای مختلف توسعه داده شود، این امر می تواند مشکل ساز باشد. پس از تورفتگی با tab در یک ویرایشگر، ممکن است در ویرایشگرهای دیگر طول متفاوتی داشته باشد. از طرف دیگر، یک فضا فقط یک کاراکتر را اشغال می کند و از این مشکل احتمالی جلوگیری می کند.\n",
    "     <br/>\n",
    " با اضافه‌کردن یک مرحله تورفتگی، یک بلاک درونی جدید شروع می‌شود و با حذف کردن این تورفتگی بلاک قبلی تمام می‌شود.\n",
    " همیشه وقتی باید یک بلاک جدید شروع شود، یک کاراکتر دونقطه (:) حتما در انتهای خط قبلی آن وجود دارد.\n",
    " <br/>\n",
    " دستوراتی که بعدشان باید یک بلاک جدید شروع شود:\n",
    "<span class=\"codeM\">if و else و for و while و تعریف تابع (def) و ...</span>\n",
    "<br/>\n",
    "دقت کنید که یک بلاک نمی‌تواند هرگز خالی باشد. پس اگر به هر دلیلی بلاک خالی شد، می‌توانید از کلمه‌ی کلیدی\n",
    "<span class=\"codeM\">pass</span>\n",
    "برای خالی نماندن بلاک استفاده کنید.\n",
    "</font>\n",
    "</div>"
   ]
  },
  {
   "cell_type": "markdown",
   "metadata": {},
   "source": [
    "<div class=\"persian\" style=\"direction:rtl\">\n",
    "<font face=\"XB Zar\" size=3>\n",
    "<h3>ساختار شرطی</h3>\n",
    "if\n",
    "درست همانطوری که فکر می‌کنید کار می‌کند، فقط با این تفاوت که نیازی نیست دور گزاره‌ی شرطی آن پرانتز بگذارید (گذاشتن آن هم مانعی ندارد). فقط یادتان نرود که در پایان این دستور باید یک کاراکتر دونقطه (:) نوشته شده و در خط بعدی آن یک بلاک جدید شروع شود.\n",
    "<br/>\n",
    "همچنین در پایتون\n",
    "else if\n",
    "نداریم و به جای آن باید از کلمه‌ی کلیدی \n",
    "<span class=\"codeM\">elif</span>\n",
    "استفاده کنید.\n",
    "<br/>\n",
    "همچنین همانند بقیه‌ی زبان‌ها گزاره‌های and و or به صورت\n",
    "اتصال‌کوتاه (short-circuit)\n",
    "اجرا می‌شوند.\n",
    "</font>\n",
    "</div>"
   ]
  },
  {
   "cell_type": "markdown",
   "metadata": {},
   "source": [
    "<div class=\"persian\" style=\"direction:rtl\">\n",
    "<font face=\"XB Zar\" size=3>\n",
    "<h3>مقدار True و False انواع پایه در گزاره‌های شرطی</h3>\n",
    "    مقادیر زیر در پایتون در یک گزاره‌ی شرطی مقدار False دارند:\n",
    "    <ul>\n",
    "        <li>False</li>\n",
    "        <li>None</li>\n",
    "        <li>صفر عددی: 0، 0.0، 0j</li>\n",
    "        <li>یک دنباله (مثلا رشته) یا مجموعه یا \n",
    "        dict\n",
    "        خالی: ''، \"\"، {}، []، () و غیره</li>\n",
    "    </ul>\n",
    "    هر چیز دیگری مقدار True می‌گیرد.\n",
    "</font>\n",
    "</div>"
   ]
  },
  {
   "cell_type": "code",
   "execution_count": 8,
   "metadata": {
    "scrolled": true
   },
   "outputs": [
    {
     "name": "stdout",
     "output_type": "stream",
     "text": [
      "a is greater than or equal to 5 and less than 10\n",
      "no error was thrown\n"
     ]
    }
   ],
   "source": [
    "a = 5\n",
    "\n",
    "if a < 5:\n",
    "    pass\n",
    "elif a < 10:  # this is okay too, but why bother?\n",
    "    print('a is greater than or equal to 5 and less than 10')\n",
    "else:\n",
    "    print('a is greater than or equal to 10')\n",
    "\n",
    "if a<10 or a/0:\n",
    "    # the second one must throw a division by zero exception\n",
    "    print('no error was thrown')\n",
    "    # obviously or (also and) is short-circuited"
   ]
  },
  {
   "cell_type": "markdown",
   "metadata": {},
   "source": [
    "<div class=\"persian\"style=\"direction:rtl\">\n",
    "<font face=\"XB Zar\" size=3>\n",
    "<h3>حلقه‌ها</h3>\n",
    "در پایتون دو حلقه‌ی\n",
    "<span class=\"codeM\">for, while</span>\n",
    "را داریم.\n",
    "<br/>\n",
    "البته حلقه‌ی\n",
    "for\n",
    "کمی با زبان‌های دیگر متفاوت است. شما فقط می‌توانید روی یک لیست یا یک شی پیمایش‌شونده\n",
    "(iterable)\n",
    "حلقه اجرا کنید.\n",
    "<br/>\n",
    "همچنین حلقه‌ها می‌توانند یک عبارت\n",
    "<span class=\"codeM\">عبارات break و continue هم مشابه با زبان‌های برنامه نویسی که قبلا دیده اید در حلقه ها قابل استفاده اند</span>\n",
    "<br>Python range is a function that returns a sequence of numbers. By default, range returns a sequence that begins at 0 and increments in steps of 1. The range function only works with integers. Other data types like float numbers cannot be used.\n",
    "</font>\n",
    "</div>"
   ]
  },
  {
   "cell_type": "code",
   "execution_count": 4,
   "metadata": {
    "scrolled": true
   },
   "outputs": [
    {
     "name": "stdout",
     "output_type": "stream",
     "text": [
      "range(5) :  [0, 1, 2, 3, 4]\n",
      "range(1,5) :  [1, 2, 3, 4]\n",
      "range(1,5,2) :  [1, 3]\n",
      "range(5,1) :  []\n",
      "range(5,1,-2) :  [5, 3]\n"
     ]
    }
   ],
   "source": [
    "\n",
    "# an inmportant command in for: range\n",
    "print(\"range(5) : \" , list(range(5)))\n",
    "print(\"range(1,5) : \" , list(range(1,5)))\n",
    "print(\"range(1,5,2) : \", list(range(1,5,2)))\n",
    "print(\"range(5,1) : \", list(range(5,1)))\n",
    "print(\"range(5,1,-2) : \", list(range(5,1,-2)))\n"
   ]
  },
  {
   "cell_type": "code",
   "execution_count": 7,
   "metadata": {},
   "outputs": [
    {
     "name": "stdout",
     "output_type": "stream",
     "text": [
      "\u0004\n",
      "\u0005\n",
      "\u0006\n",
      "\u0007\n",
      "\b\n",
      "\t\n"
     ]
    }
   ],
   "source": [
    "\n",
    "for i in range(4, 10):\n",
    "    print()"
   ]
  },
  {
   "cell_type": "code",
   "execution_count": 9,
   "metadata": {},
   "outputs": [
    {
     "name": "stdout",
     "output_type": "stream",
     "text": [
      "str: 2\n",
      "str: 4\n",
      "str: 6\n",
      "2451024116096\n",
      "2451024116096\n",
      "[2, 3, 4, 5, 6, 2, 3, 4, 5, 6, 2, 3, 4, 5, 6]\n",
      "ans:  [18, 27, 36, 45, 54, 18, 27, 36, 45, 54, 18, 27, 36, 45, 54]\n",
      "[18, 27, 36, 45, 54, 18, 27, 36, 45, 54, 18, 27, 36, 45, 54]\n"
     ]
    }
   ],
   "source": [
    "str=\"hello\"\n",
    "lst=[2,3,4,5,6]\n",
    "for i in lst[::2]:\n",
    "    print(\"str:\", i)\n",
    "print(id(lst))\n",
    "#increase length of list\n",
    "lst*=3\n",
    "print(id(lst))\n",
    "print(lst)\n",
    "for i in range(len(lst)):\n",
    "    lst[i]*=3\n",
    "ans=[]\n",
    "for i in lst:\n",
    "    ans+=[i*3]\n",
    "print(\"ans: \" , ans)\n",
    "#multiply to 3\n",
    "lst = [i*3 for i in lst]\n",
    "print(lst)\n"
   ]
  },
  {
   "cell_type": "code",
   "execution_count": 10,
   "metadata": {},
   "outputs": [
    {
     "name": "stdout",
     "output_type": "stream",
     "text": [
      "counting ...  5\n",
      "counting ...  4\n",
      "counting ...  3\n",
      "counting ...  2\n",
      "counting ...  1\n",
      "0,1,2,3,4,\n",
      "0,1,2,3,4,\n",
      "10 8 6 4 2 \n",
      "\n",
      "alialiali\n",
      "\n",
      "1**2**3**9**0**10**"
     ]
    }
   ],
   "source": [
    "cnt = 5\n",
    "\n",
    "while cnt > 0:\n",
    "    print('counting ... ',cnt)\n",
    "    cnt -= 1  \n",
    "\n",
    "for i in range(5):\n",
    "    print(i, end=',')\n",
    "    \n",
    "    \n",
    "print()\n",
    "for i in range(0, 5):\n",
    "    print(i, end=',')\n",
    "    \n",
    "print()  \n",
    "for i in range(10, 1, -2):\n",
    "    print(i, end=' ')\n",
    "print('\\n') \n",
    "str1='ali'*3\n",
    "for i in str1:\n",
    "    print(i,end='')\n",
    "print(\"\\n\")\n",
    "List=[1,2,3,9,0,10]\n",
    "for i in List:\n",
    "    print(i,end=\"**\")\n"
   ]
  },
  {
   "cell_type": "code",
   "execution_count": 4,
   "metadata": {},
   "outputs": [],
   "source": [
    "for i in range(2,2):#not work\n",
    "    print(\"hi\")"
   ]
  },
  {
   "cell_type": "code",
   "execution_count": 6,
   "metadata": {},
   "outputs": [
    {
     "name": "stdout",
     "output_type": "stream",
     "text": [
      "1\n",
      "2\n",
      "3\n",
      "4\n",
      "D,a,t,a,S,t,r,u,c,t,u,r,e, ,C,o,u,r,s,e,"
     ]
    }
   ],
   "source": [
    "for i in 1,2,3,4:\n",
    "    print(i)\n",
    "\n",
    "for i in \"DataStructure Course\":\n",
    "    print(i, end=',')"
   ]
  },
  {
   "cell_type": "markdown",
   "metadata": {
    "collapsed": true,
    "jupyter": {
     "outputs_hidden": true
    }
   },
   "source": [
    "<div class=\"persian\" style=\"direction:rtl\">\n",
    "<font face=\"XB Zar\" size=3>\n",
    "<h3>مساله یک</h3>\n",
    "<ul>\n",
    "    <li>تا زمانی که عدد وارد شده شده اول است ورودی بگیرد و هر عددی که ورودی می‌گیرد را بلافاصله در خروجی  وگرنه برنامه را قطع کند</li>\n",
    "</ul>\n",
    "\n",
    "\n",
    "</font>\n",
    "</div>"
   ]
  },
  {
   "cell_type": "code",
   "execution_count": 33,
   "metadata": {},
   "outputs": [
    {
     "name": "stdout",
     "output_type": "stream",
     "text": [
      "1,3,5,7,9,11,13,15,17,19,21,23,25,27,29,31,33,35,37,39,41,43,45,47,49,51,53,55,57,59,61,63,65,67,69,71,73,75,77,79,81,83,85,87,89,91,93,95,97,99,1,3,5,7,9,11,13,15,17,19,21,23,25,27,29,31,33,35,37,39,41,43,45,47,49,51,53,55,57,59,61,63,65,67,69,71,73,75,77,79,81,83,85,87,89,91,93,95,97,99,"
     ]
    }
   ],
   "source": [
    "for i in range(1,100,2):\n",
    "    print(i, end=',')\n",
    "i=1 \n",
    "while i<100:\n",
    "    print(i, end=',')\n",
    "    i+=2"
   ]
  },
  {
   "cell_type": "code",
   "execution_count": 17,
   "metadata": {},
   "outputs": [
    {
     "name": "stdin",
     "output_type": "stream",
     "text": [
      " 10\n"
     ]
    }
   ],
   "source": [
    "chk=True\n",
    "while chk:\n",
    "    num = int(input())\n",
    "    for i in range(2, num//2+1):\n",
    "        if num%i==0:\n",
    "            chk = False\n",
    "            break\n",
    "    if chk: print(num)"
   ]
  },
  {
   "cell_type": "code",
   "execution_count": 11,
   "metadata": {
    "scrolled": true
   },
   "outputs": [
    {
     "name": "stdin",
     "output_type": "stream",
     "text": [
      " 11\n"
     ]
    },
    {
     "name": "stdout",
     "output_type": "stream",
     "text": [
      "11\n",
      "True\n"
     ]
    },
    {
     "name": "stdin",
     "output_type": "stream",
     "text": [
      " 10\n"
     ]
    },
    {
     "name": "stdout",
     "output_type": "stream",
     "text": [
      "10\n",
      "False\n"
     ]
    }
   ],
   "source": [
    "chk=True\n",
    "while (chk==True):\n",
    "    inpt = int(input())\n",
    "    print(inpt)\n",
    "    for i in range(2, inpt//2):\n",
    "        if inpt%i==0:\n",
    "            chk=False\n",
    "            break\n",
    "    \n"
   ]
  },
  {
   "cell_type": "code",
   "execution_count": null,
   "metadata": {},
   "outputs": [],
   "source": [
    "check=True\n",
    "while check:\n",
    "    num=int(input(\"Please enter your number:\"))\n",
    "    for i in range(2,num//2):\n",
    "        if num%i==0:\n",
    "            check=False\n",
    "    if check==True:\n",
    "        print(num)"
   ]
  },
  {
   "cell_type": "code",
   "execution_count": null,
   "metadata": {},
   "outputs": [
    {
     "name": "stdout",
     "output_type": "stream",
     "text": [
      "input your num3\n",
      "3\n",
      "input your num4\n",
      "4\n"
     ]
    }
   ],
   "source": [
    "while check:\n",
    "    num =int( input(\"input your num\"))\n",
    "    temp = num//2\n",
    "    check=0\n",
    "    for i in range (2,temp):\n",
    "        if num % i == 0 :\n",
    "            check=1\n",
    "    if check ==1 :\n",
    "        break\n",
    "    else :\n",
    "        print(num)\n",
    "        \n",
    "        \n",
    "    "
   ]
  },
  {
   "cell_type": "markdown",
   "metadata": {},
   "source": [
    "<div class=\"persian\" style=\"direction:rtl\">\n",
    "<font face=\"XB Zar\" size=3>\n",
    "<h3>مساله دو</h3>\n",
    "<ul>\n",
    "    <li>دو رشته n حرفی دریافت کند و یک رشته n حرفی شامل حروف بزرگتر هر جایگاه خروجی دهد</li>\n",
    "    <li>مثال: رشته های ورودی abcd و yrea هستند و رشته خروجی yred خواهد بود</li>\n",
    "\n",
    "\n",
    "</ul>\n",
    "\n",
    "\n",
    "</font>\n",
    "</div>"
   ]
  },
  {
   "cell_type": "code",
   "execution_count": 19,
   "metadata": {},
   "outputs": [
    {
     "name": "stdout",
     "output_type": "stream",
     "text": [
      "AbCd\n",
      "new c: AbCd\n"
     ]
    }
   ],
   "source": [
    "a= \"ABCD\"\n",
    "b=\"AbCd\"\n",
    "c=\"\"\n",
    "idx=0\n",
    "for i in a:\n",
    "    if i>b[idx]:\n",
    "        c+=i\n",
    "    else:\n",
    "        c+=b[idx]\n",
    "    idx+=1\n",
    "    # c+=i if i>b[idx] else b[idx]\n",
    "print(c)\n",
    "c=\"\"\n",
    "for idx, val in enumerate(a):\n",
    "    c+=val if val>b[idx] else b[idx]\n",
    "print(\"new c:\" , c)"
   ]
  },
  {
   "cell_type": "code",
   "execution_count": 21,
   "metadata": {},
   "outputs": [
    {
     "name": "stdin",
     "output_type": "stream",
     "text": [
      " hello\n",
      " warde\n"
     ]
    },
    {
     "name": "stdout",
     "output_type": "stream",
     "text": [
      "werlo\n"
     ]
    }
   ],
   "source": [
    "a= input()\n",
    "b=input()\n",
    "c=\"\"\n",
    "\n",
    "for idx, value in enumerate(a):\n",
    "    if value>b[idx]:\n",
    "        c+=value\n",
    "    else:\n",
    "        c+=b[idx]\n",
    "    \n",
    "print(c)"
   ]
  },
  {
   "cell_type": "code",
   "execution_count": 3,
   "metadata": {},
   "outputs": [
    {
     "name": "stdin",
     "output_type": "stream",
     "text": [
      " abcd\n",
      " aBcD\n"
     ]
    },
    {
     "name": "stdout",
     "output_type": "stream",
     "text": [
      "abcd\n",
      "1680123313520\n",
      "140730940299008\n",
      "1680123305008\n",
      "1680123701872\n",
      "1680123305008\n",
      "abcd\n"
     ]
    }
   ],
   "source": [
    "a = input()\n",
    "b = input()\n",
    "s = \"\"\n",
    "for i in range(len(a)):\n",
    "    if a[i]>b[i]:\n",
    "        s+=a[i]\n",
    "    else:\n",
    "        s+=b[i]\n",
    "print(s,end = \"\\n\")\n",
    "\n",
    "print(id(s))\n",
    "s=\"\"\n",
    "for i in range(len(a)):\n",
    "    s += a[i] if a[i] > b[i] else b[i]\n",
    "    print(id(s))\n",
    "    \n",
    "print(s)\n"
   ]
  },
  {
   "cell_type": "code",
   "execution_count": 5,
   "metadata": {},
   "outputs": [
    {
     "name": "stdin",
     "output_type": "stream",
     "text": [
      "first str abcd\n",
      "second str ABCD\n"
     ]
    },
    {
     "name": "stdout",
     "output_type": "stream",
     "text": [
      "abcd\n"
     ]
    }
   ],
   "source": [
    "in1=input(\"first str\")\n",
    "in2=input(\"second str\")\n",
    "out=\"\"\n",
    "index=0\n",
    "for i in in1:\n",
    "    if i>in2[index]:\n",
    "        out+=i\n",
    "    else:\n",
    "        out+=in2[index]\n",
    "    index+=1\n",
    "print(out)\n",
    "            \n",
    "            "
   ]
  },
  {
   "cell_type": "code",
   "execution_count": 1,
   "metadata": {},
   "outputs": [
    {
     "name": "stdout",
     "output_type": "stream",
     "text": [
      "asd\n",
      "xad\n",
      "xsd\n"
     ]
    }
   ],
   "source": [
    "a = input()\n",
    "b = input()\n",
    "s = \"\"\n",
    "for idx,val in enumerate(a):\n",
    "    if val>b[idx]:\n",
    "        s+=val\n",
    "    else:\n",
    "        s+=b[idx]\n",
    "print(s,end = \"\\n\")\n"
   ]
  },
  {
   "cell_type": "markdown",
   "metadata": {},
   "source": [
    "<div class=\"persian\" style=\"direction:rtl\">\n",
    "<font face=\"XB Zar\" size=3>\n",
    "<h3>مساله سه</h3>\n",
    "<ul>\n",
    "    <li>دو عدد n و m بگیرید و الگوی n در m زیر را چاپ کنید  </li>\n",
    "    <li>به عنوان مثال برای n=12 و m=10  </li>\n",
    "\n",
    "\n",
    "\n",
    "</ul>\n",
    "</font>\n",
    "</div>"
   ]
  },
  {
   "cell_type": "code",
   "execution_count": 18,
   "metadata": {},
   "outputs": [
    {
     "name": "stdin",
     "output_type": "stream",
     "text": [
      " 12\n",
      " 10\n"
     ]
    },
    {
     "name": "stdout",
     "output_type": "stream",
     "text": [
      "**  **  **\n",
      "**  **  **\n",
      "  **  **  \n",
      "  **  **  \n",
      "**  **  **\n",
      "**  **  **\n",
      "  **  **  \n",
      "  **  **  \n",
      "**  **  **\n",
      "**  **  **\n",
      "  **  **  \n",
      "  **  **  \n"
     ]
    }
   ],
   "source": [
    "\"\"\"\n",
    "example for n=12, m=10\n",
    "\n",
    "**  **  **\n",
    "**  **  **\n",
    "  **  **  \n",
    "  **  **  \n",
    "**  **  **\n",
    "**  **  **\n",
    "  **  **  \n",
    "  **  **  \n",
    "**  **  **\n",
    "**  **  **\n",
    "  **  **  \n",
    "  **  **  \n",
    "\n",
    "\"\"\"\n",
    "n = int(input())\n",
    "m = int(input())\n",
    "\n",
    "for i in range(n):\n",
    "    for j in range(m):\n",
    "        if (i//2 + j//2) % 2:\n",
    "            print(' ', end='')\n",
    "        else:\n",
    "            print('*', end='')\n",
    "    print()"
   ]
  },
  {
   "cell_type": "markdown",
   "metadata": {},
   "source": [
    "<div class=\"persian\" style=\"direction:rtl\">\n",
    "<font face=\"XB Zar\" size=3>\n",
    "<h3>لیست‌ها</h3>\n",
    "لیست‌های پایتون درست مثل vector (آرایه‌های با طول متغیر) در C++ یا Java اند.\n",
    "<br/>\n",
    "مثال: دسترسی جزیی به لیست -- پیمایش لیست‌ها در حلقه -- تعدادی تابع کاربردی در لیست\n",
    "</font>\n",
    "</div>\n"
   ]
  },
  {
   "attachments": {
    "image.png": {
     "image/png": "[encoded data removed]"
    }
   },
   "cell_type": "markdown",
   "metadata": {},
   "source": [
    "![image.png](attachment:image.png)"
   ]
  },
  {
   "cell_type": "code",
   "execution_count": 11,
   "metadata": {
    "scrolled": true
   },
   "outputs": [
    {
     "name": "stdout",
     "output_type": "stream",
     "text": [
      "[6, 2, 10, 3, 5]\n",
      "6,2,10,3,5\n",
      "length of l is: 5\n",
      "<class 'int'> <class 'list'>\n",
      "5\n",
      "[2, 10]\n",
      "[2, 10, 3]\n",
      "[5, 10, 6]\n",
      "[6, 2, 10]\n",
      "[3, 5]\n",
      "[6, 2, 10, 3, 5]\n"
     ]
    }
   ],
   "source": [
    "l = [6, 2,10\n",
    "     ,3,5]\n",
    "l2 = [6, 2,10,\n",
    "     3,5, \"sdjajk\", 32]\n",
    "# l[-10] = 10\n",
    "\n",
    "print(l)\n",
    "print(*l, sep=',')\n",
    "#  you can break the lines that are constrined by [] or () or {}\n",
    "# it can be a very good tool for increasing readability\n",
    "     \n",
    "#  also you can leave the last colon (,) be, it doesn't do any harm\n",
    "# it's not necessary either\n",
    "\n",
    "print('length of l is: ' + str(len(l)))\n",
    "\n",
    "print(type(l[0]), type(l))     # the first item\n",
    "print(l[-1])    # the last item\n",
    "print(l[1:3])   # only the second and third item\n",
    "print(l[1:-1])  # everything but the first and the last item\n",
    "print(l[-1::-2])  # everything but the first and the last item\n",
    "print(l[:3])    # the first 3 items\n",
    "print(l[-2:])   # the last 2 items\n",
    "print(l[0:100]) # no error! the whole list is returned"
   ]
  },
  {
   "cell_type": "code",
   "execution_count": 19,
   "metadata": {},
   "outputs": [
    {
     "name": "stdout",
     "output_type": "stream",
     "text": [
      "Intial blank List: \n",
      "[]\n",
      "\n",
      "List with the use of String: \n",
      "['GeeksForGeeks']\n",
      "\n",
      "List containing multiple values: \n",
      "Geeks\n",
      "Geeks\n"
     ]
    }
   ],
   "source": [
    "\n",
    "# Python program to demonstrate bCreation of List  \n",
    "  \n",
    "# Creating a List \n",
    "List = [] \n",
    "print(\"Intial blank List: \") \n",
    "print(List) \n",
    "  \n",
    "# Creating a List with  \n",
    "# the use of a String \n",
    "List = ['GeeksForGeeks'] \n",
    "print(\"\\nList with the use of String: \") \n",
    "print(List) \n",
    "  \n",
    "# Creating a List with \n",
    "# the use of multiple values \n",
    "List = [\"Geeks\", \"For\", \"Geeks\"] \n",
    "print(\"\\nList containing multiple values: \") \n",
    "print(List[0])  \n",
    "print(List[2]) "
   ]
  },
  {
   "cell_type": "code",
   "execution_count": 20,
   "metadata": {
    "scrolled": true
   },
   "outputs": [
    {
     "name": "stdout",
     "output_type": "stream",
     "text": [
      "[['Geeks', 'For'], ['Geeks']]\n",
      "\n",
      "Multi-Dimensional List: \n",
      "2\n",
      "2\n",
      "1\n"
     ]
    }
   ],
   "source": [
    "# Creating a Multi-Dimensional List \n",
    "# (By Nesting a list inside a List) \n",
    "List = [['Geeks', 'For'] , ['Geeks']] \n",
    "print(List)\n",
    "print(\"\\nMulti-Dimensional List: \") \n",
    "print(len(List))\n",
    "print(len(List[0]))\n",
    "print(len(List[1]))"
   ]
  },
  {
   "cell_type": "code",
   "execution_count": 20,
   "metadata": {},
   "outputs": [
    {
     "name": "stdout",
     "output_type": "stream",
     "text": [
      "5\n"
     ]
    }
   ],
   "source": [
    "lst = [1,2,3,10,12,1,10,13,10]\n",
    "print(lst.index(1, lst.index(1)+1))"
   ]
  },
  {
   "cell_type": "code",
   "execution_count": 22,
   "metadata": {},
   "outputs": [
    {
     "name": "stdout",
     "output_type": "stream",
     "text": [
      "3\n",
      "6\n",
      "6\n"
     ]
    }
   ],
   "source": [
    "lst = [1,2,3,10,12,1,10,13,10]\n",
    "print(lst.index(10))\n",
    "#  searches for the first occurrence of the value\n",
    "print(lst.index(10,lst.index(10)+1) )\n",
    "#  searches for the first occurrence of the value aftre the second argument\n",
    "?/////////////////////////\n",
    "=;l0kojihugytf78j9k0l;;h'\n",
    "\\0o]k1234567890-\\\\\\\\\\][poiuytrewqq\n",
    "                       ';lkjhgfdsaASFJKL;'\n",
    "?.,MNBVCXZZXC"
   ]
  },
  {
   "cell_type": "code",
   "execution_count": 24,
   "metadata": {},
   "outputs": [
    {
     "name": "stdout",
     "output_type": "stream",
     "text": [
      "\n",
      "List with the use of Numbers: \n",
      "[1, 2, 2, 4, 3, 3, 3, 3, 6, 5]\n",
      "Count 3:  4\n",
      "Index of first 3:  4\n",
      "Index of second 3:  5\n",
      "[]\n",
      "\n",
      "List with the use of Mixed Values: \n",
      "[1, 2.14, 'Geeks', 4, 'For', 6, 'Geeks']\n",
      "1680155677376\n",
      "[1, 'hello', 2.14, 'Geeks', 4, 'For', 6, 'Geeks']\n",
      "1680155677376\n"
     ]
    }
   ],
   "source": [
    "# Creating a List with  \n",
    "# the use of Numbers \n",
    "# (Having duplicate values) \n",
    "List = [1, 2, 2, 4, 3, 3, 3,3, 6, 5] \n",
    "print(\"\\nList with the use of Numbers: \") \n",
    "print(List) \n",
    "#count, index, clear, and del functions\n",
    "print(\"Count 3: \",List.count(3))\n",
    "print(\"Index of first 3: \",List.index(3))\n",
    "start = List.index(3)\n",
    "print(\"Index of second 3: \",List.index(3, start+1))\n",
    "List.clear()\n",
    "print(List)\n",
    "del List\n",
    "# print(List)\n",
    "  \n",
    "# Creating a List with mixed type of values \n",
    "# (Having numbers and strings) \n",
    "List = [1, 2.14, 'Geeks', 4, 'For', 6, 'Geeks'] \n",
    "print(\"\\nList with the use of Mixed Values: \") \n",
    "print(List) \n",
    "print(id(List))\n",
    "List.insert(1,\"hello\")\n",
    "print(List)\n",
    "print(id(List))"
   ]
  },
  {
   "attachments": {
    "image.png": {
     "image/png": "[encoded data removed]"
    }
   },
   "cell_type": "markdown",
   "metadata": {},
   "source": [
    "<div class=\"persian\" style=\"direction:rtl\">\n",
    "<font face=\"XB Zar\" size=3>\n",
    "<h3>توابع پرکاربرد در لیست‌ها</h3>\n",
    "\n",
    "\n",
    "\n",
    "![image.png](attachment:image.png)"
   ]
  },
  {
   "attachments": {
    "e73e1962-e6c8-4ba9-826d-f25d49891194.png": {
     "image/png": "[encoded data removed]"
    }
   },
   "cell_type": "markdown",
   "metadata": {},
   "source": [
    "![image.png](attachment:e73e1962-e6c8-4ba9-826d-f25d49891194.png)\n"
   ]
  },
  {
   "cell_type": "code",
   "execution_count": 10,
   "metadata": {},
   "outputs": [
    {
     "name": "stdout",
     "output_type": "stream",
     "text": [
      "Intial blank List: \n",
      "[]\n",
      "\n",
      "List after Addition of Three elements: \n",
      "[1, 2, 4]\n"
     ]
    }
   ],
   "source": [
    "# Python program to demonstrate Addition of elements in a List \n",
    "#append, insert, extend\n",
    "\n",
    "# Creating a List \n",
    "List = [] \n",
    "print(\"Intial blank List: \") \n",
    "print(List) \n",
    "\n",
    "# Addition of Elements \n",
    "# in the List \n",
    "List.append(1) \n",
    "List.append(2) \n",
    "List.append(4) \n",
    "print(\"\\nList after Addition of Three elements: \") \n",
    "print(List)\n",
    "\n",
    "\n",
    "\n"
   ]
  },
  {
   "cell_type": "code",
   "execution_count": 29,
   "metadata": {},
   "outputs": [
    {
     "name": "stdout",
     "output_type": "stream",
     "text": [
      "\n",
      "List after Addition of elements from 1-3: \n",
      "[1, 2, 3]\n",
      "\n",
      "List after Addition of a Tuple: \n",
      "[1, 2, 3, (5, 6)]\n",
      "\n",
      "List after Addition of a List: \n",
      "[1, 2, 3, (5, 6), ['For', 'Geeks']]\n",
      "\n",
      "List after performing Insert Operation: \n",
      "[1, 2, 3, 12, (5, 6), ['Geeks', 'For', 'Geeks']]\n",
      "\n",
      "List after performing del Operation: \n",
      "[2, 3, 12, (5, 6), ['Geeks', 'For', 'Geeks']]\n",
      "after pop(4), it returns :  ['Geeks', 'For', 'Geeks'] and list equals with : [2, 3, 12, (5, 6)]\n",
      "After removing tuple from List:  [2, 3, 12]\n",
      "\n",
      "List after performing Extend Operation: \n",
      "[2, 3, 12, 8, 'Geeks', 'Always']\n",
      "<class 'list'>\n"
     ]
    }
   ],
   "source": [
    "# Adding elements to the List \n",
    "# using Iterator \n",
    "List=[]\n",
    "for i in range(1, 4): \n",
    "\tList.append(i) \n",
    "print(\"\\nList after Addition of elements from 1-3: \") \n",
    "print(List) \n",
    "\n",
    "# Adding Tuples to the List \n",
    "List.append((5, 6)) \n",
    "print(\"\\nList after Addition of a Tuple: \") \n",
    "print(List) \n",
    "\n",
    "# Addition of List to a List \n",
    "List2 = ['For', 'Geeks'] \n",
    "List.append(List2) \n",
    "print(\"\\nList after Addition of a List: \") \n",
    "print(List) \n",
    "\n",
    "# Addition of Element at specific Position \n",
    "# (using Insert Method) \n",
    "List.insert(3, 12) \n",
    "List2.insert(0, 'Geeks') \n",
    "print(\"\\nList after performing Insert Operation: \") \n",
    "print(List) \n",
    "print(\"\\nList after performing del Operation: \") \n",
    "# List.pop(0) is similar to del, but this function returns the deleted index\n",
    "del List[0]\n",
    "print(List)\n",
    "print(\"after pop(4), it returns : \", List.pop(4), \"and list equals with :\", List)\n",
    "#remove functaion takes value rather than del funtion taking index\n",
    "List.remove((5,6))\n",
    "print(\"After removing tuple from List: \",List) \n",
    "\n",
    "# Addition of multiple elements \n",
    "# to the List at the end \n",
    "# (using Extend Method) \n",
    "List.extend([8, 'Geeks', 'Always']) \n",
    "#list.append([8, 'Geeks', 'Always'])\n",
    "print(\"\\nList after performing Extend Operation: \") \n",
    "print(List) \n",
    "print(type(List))"
   ]
  },
  {
   "cell_type": "code",
   "execution_count": 26,
   "metadata": {},
   "outputs": [
    {
     "name": "stdout",
     "output_type": "stream",
     "text": [
      "abcdefg\n",
      "new: ['a', 'b', 'c', 'd', 'e', 'f', 'g']\n",
      "text: abcdefg\n",
      "['a', 'b', 'c', 'd', 'e', 'f', 'W']\n"
     ]
    }
   ],
   "source": [
    "text = 'abcdefg'\n",
    "#text[6]='W' #-->Error!\n",
    "print(text)\n",
    "new = list(text)\n",
    "print(\"new:\", new)\n",
    "print(\"text:\", text)\n",
    "#text[6]='W'#error!\n",
    "new[6] = 'W'\n",
    "print(new)\n",
    "\n"
   ]
  },
  {
   "cell_type": "code",
   "execution_count": 40,
   "metadata": {},
   "outputs": [
    {
     "name": "stdout",
     "output_type": "stream",
     "text": [
      "address of b: 1680155997568\n",
      "a_cpy,\n",
      " before 1680129517696\n",
      "after 1680156047296\n",
      "a_pls,\n",
      "before 1680130445184\n",
      "after 1680130445184\n",
      "a_twpnt,\n",
      "before 1680136510400\n",
      "after 1680136086656\n",
      "a_assign,\n",
      "before 1680136014592\n",
      "after 1680155997568\n",
      "a_cpy: [1, 2, 'ali', 5], a_pls: [1, 2, 'ali', 5], a_twpnt: [1, 2, 'ali', 5], a_assign: [1, 2, 'zahra', 5]\n"
     ]
    }
   ],
   "source": [
    "#copy a list to other list\n",
    "a_cpy, a_pls, a_twpnt, a_assign=[], [], [], []\n",
    "\n",
    "b=[1,2,'ali',5]\n",
    "\n",
    "print(\"address of b:\", id(b))\n",
    "#4-way\n",
    "print(\"a_cpy,\\n before\",id(a_cpy))\n",
    "a_cpy=b.copy()\n",
    "print(\"after\",id(a_cpy))\n",
    "print(\"a_pls,\\nbefore\",id(a_pls))\n",
    "a_pls+=b\n",
    "print(\"after\",id(a_pls))#same adr with previous\n",
    "print(\"a_twpnt,\\nbefore\",id(a_twpnt))\n",
    "a_twpnt=b[:]\n",
    "print(\"after\",id(a_twpnt))\n",
    "print(\"a_assign,\\nbefore\",id(a_assign))\n",
    "a_assign=b\n",
    "print(\"after\",id(a_assign))#same of b address\n",
    "b[2]='zahra'\n",
    "print(\"a_cpy: {}, a_pls: {}, a_twpnt: {}, a_assign: {}\".format(a_cpy,a_pls,a_twpnt,a_assign) )\n",
    "################\n"
   ]
  },
  {
   "cell_type": "code",
   "execution_count": 36,
   "metadata": {},
   "outputs": [
    {
     "name": "stdout",
     "output_type": "stream",
     "text": [
      "id(b):  1680123696768\n",
      "1.  [1, 2, 'ali', 5, 2, 3]\n",
      "1680123696768\n",
      "1680136510400\n",
      "2.  [1, 2, 'ali', 5, 2, 3, 22, 33]\n",
      "before id(a) 1680156024256\n",
      "after id(a) 1680156024256\n"
     ]
    }
   ],
   "source": [
    "a=[]\n",
    "b=[1,2,'ali',5]\n",
    "#2-way\n",
    "print(\"id(b): \",id(b))\n",
    "b+=[2,3]\n",
    "print(\"1. \",b)\n",
    "print(id(b))\n",
    "b=b+[22,33]#make a different address\n",
    "print(id(b))\n",
    "print(\"2. \",b)\n",
    "print(\"before id(a)\", id(a))\n",
    "a+=b\n",
    "print(\"after id(a)\", id(a))\n"
   ]
  },
  {
   "cell_type": "code",
   "execution_count": 34,
   "metadata": {},
   "outputs": [
    {
     "name": "stdout",
     "output_type": "stream",
     "text": [
      "140730940252968 140730940252968\n",
      "140730940252968 140730940253928\n"
     ]
    }
   ],
   "source": [
    "a=1\n",
    "b=a\n",
    "print (id(a), id(b))\n",
    "b+=30\n",
    "print (id(a), id(b))"
   ]
  },
  {
   "cell_type": "code",
   "execution_count": 26,
   "metadata": {},
   "outputs": [
    {
     "name": "stdout",
     "output_type": "stream",
     "text": [
      "[1, 2, 3, 4, 5, 6, [7, 8]]\n",
      "[1, 2, 3, 4, 5, 6, [7, 8], 7, 8]\n",
      "[1, 2, 3, 4, 5, 6, [7, 8], 7, 8, 7, 8]\n",
      "[1, 2, 3, 4, 5, 6, [7, 8], 7, 8, 7, 8, 7, 8]\n"
     ]
    }
   ],
   "source": [
    "a = [1, 2, 3, 4, 5, 6]\n",
    "b=[7,8]\n",
    "#1\n",
    "a.append(b)\n",
    "print(a)\n",
    "a.extend(b)\n",
    "print(a)\n",
    "#2\n",
    "for i in range(len(b)):\n",
    "    a+=[b[i]]\n",
    "for i in b:\n",
    "    a+=i\n",
    "print(a)\n",
    "#3 Best way\n",
    "a+=b\n",
    "print(a)\n",
    "#4\n",
    "a.extend(b)\n",
    "\n"
   ]
  },
  {
   "cell_type": "code",
   "execution_count": 27,
   "metadata": {},
   "outputs": [
    {
     "name": "stdout",
     "output_type": "stream",
     "text": [
      "[1, 2, 3, 4, 5, 6, [7, 100], 7, 8, 7, 8, 7, 8, 7, 8]\n",
      "[1, 2, 3, 5, 6, [7, 100], 7, 8, 7, 8, 7, 8, 7, 8]\n",
      "[1, 2, 6, [7, 100], 7, 8, 7, 8, 7, 8, 7, 8]\n",
      "Updated animal list:  ['cat', 'dog', 'guinea pig']\n"
     ]
    }
   ],
   "source": [
    "b[1]=100\n",
    "print(a)\n",
    "#removing item in list\n",
    "#1\n",
    "index = 3 # Only positive index\n",
    "a = a[:index] + a[index+1 :]\n",
    "print(a)\n",
    "#2\n",
    "del a[2:4]\n",
    "print(a)\n",
    "#3\n",
    "# animal list\n",
    "animal = ['cat', 'dog', 'rabbit', 'guinea pig']\n",
    "# 'rabbit' element is removed\n",
    "animal.remove('rabbit')\n",
    "#Updated Animal List\n",
    "print('Updated animal list: ', animal)"
   ]
  },
  {
   "cell_type": "markdown",
   "metadata": {},
   "source": [
    "<div class=\"persian\" style=\"direction:rtl\">\n",
    "<font face=\"XB Zar\" size=3>\n",
    "<h3>تابع enumerate</h3>\n",
    "<div class=\"persian\" style=\"direction:ltr\">\n",
    "    <br\\>\n",
    "        enumerate() method takes two parameters:\n",
    "<br\\>\n",
    "    iterable - a sequence, an iterator, or objects that supports iteration\n",
    "    <br\\>\n",
    "    start (optional) - enumerate() starts counting from this number. If start is omitted, 0 is taken as start.\n",
    "\n"
   ]
  },
  {
   "cell_type": "code",
   "execution_count": 37,
   "metadata": {},
   "outputs": [
    {
     "name": "stdout",
     "output_type": "stream",
     "text": [
      "Return type: <class 'enumerate'>\n",
      "list(obj1):  [(0, 'eat'), (1, 'sleep'), (2, 'repeat')]\n",
      "obj1:  <enumerate object at 0x0000018730184900>\n",
      "[(2, 'eat'), (3, 'sleep'), (4, 'repeat')]\n",
      "[(2, 'g'), (3, 'e'), (4, 'e'), (5, 'k')]\n",
      "[(10, 'eat'), (11, 'sleep'), (12, 'repeat')]\n",
      "(10, 'eat')\n",
      "(11, 'sleep')\n",
      "(12, 'repeat')\n",
      "index is: 10,and value is eat\n",
      "index is: 11,and value is sleep\n",
      "index is: 12,and value is repeat\n"
     ]
    }
   ],
   "source": [
    "# Python program to illustrate enumerate function \n",
    "s1 = \"geek\"\n",
    "l1 = [\"eat\",\"sleep\",\"repeat\"] \n",
    "  \n",
    "# creating enumerate objects \n",
    "obj1 = enumerate(l1) \n",
    "obj2 = enumerate(s1) \n",
    "  \n",
    "print(\"Return type:\",type(obj1) )\n",
    "print(\"list(obj1): \",list(obj1) )\n",
    "print(\"obj1: \", obj1) \n",
    "# changing start index to 2 from 0 \n",
    "print(list(enumerate(l1,2)) )\n",
    "print(list(enumerate(s1,2)) )\n",
    "\n",
    "x = list(enumerate(l1,10))\n",
    "print(x)\n",
    "for i in x:\n",
    "    print(i)\n",
    "for i,value in x:\n",
    "    print(f\"index is: {i},and value is {value}\")\n"
   ]
  },
  {
   "cell_type": "code",
   "execution_count": 23,
   "metadata": {},
   "outputs": [
    {
     "name": "stdout",
     "output_type": "stream",
     "text": [
      "0th value is: 2\n",
      "1th value is: 5\n",
      "2th value is: 7\n",
      "3th value is: 3\n",
      "4th value is: 10\n",
      "\n",
      "0th value is: 2\n",
      "1th value is: 5\n",
      "2th value is: 7\n",
      "3th value is: 3\n",
      "4th value is: 10\n"
     ]
    }
   ],
   "source": [
    "l = [2, 5, 7, 3, 10]\n",
    "for idx, value in enumerate(l):  # enumerate is like zip(0..n-1, list)\n",
    "    print('%dth value is:' % idx, value)\n",
    "\n",
    "print()\n",
    "#or\n",
    "\n",
    "idx=0\n",
    "for i in l:\n",
    "    print('%dth value is:' % idx, i)\n",
    "    idx+=1"
   ]
  },
  {
   "cell_type": "code",
   "execution_count": 32,
   "metadata": {},
   "outputs": [
    {
     "name": "stdout",
     "output_type": "stream",
     "text": [
      "[10, 3, 7, 5, 2]\n",
      "[2, 3, 5, 7, 10]\n",
      "[10, 7, 5, 3, 2]\n",
      "[10, 7, 5, 2]\n",
      "[10, 7, 5, 2, 2, [34]]\n",
      "2\n",
      "[1, 2, 3, 4, 5, 6]\n"
     ]
    }
   ],
   "source": [
    "l = [2, 5, 7, 3, 10]\n",
    "l.reverse()\n",
    "print(l)        # list is reversed\n",
    "l.sort()\n",
    "print(l)        # list is sorted\n",
    "l.sort(reverse=True)\n",
    "print(l)        # list is sorted in reverse order\n",
    "\n",
    "if 3 in l:\n",
    "    l.remove(3)\n",
    "print(l)\n",
    "\n",
    "l.append(2)\n",
    "l += [[34]]\n",
    "print(l)\n",
    "print(l.count(2))\n",
    "\n",
    "print([1, 2, 3] + [4, 5, 6])"
   ]
  },
  {
   "cell_type": "code",
   "execution_count": 34,
   "metadata": {},
   "outputs": [
    {
     "name": "stdout",
     "output_type": "stream",
     "text": [
      "HELLO, WEL!\n"
     ]
    }
   ],
   "source": [
    "s = 'hello, welcome to python programming!'\n",
    "# string also have slicing!\n",
    "print(s[:10].upper()+ '!')"
   ]
  },
  {
   "cell_type": "markdown",
   "metadata": {},
   "source": [
    "<div class=\"persian\" style=\"direction:rtl\">\n",
    "<font face=\"XB Zar\" size=3>\n",
    "<h3>مساله یک</h3>\n",
    "<ul>\n",
    "    <li>یک عدد n از ورودی بگیرید سپس در n خط بعدی اعداد یک دنباله را ورودی بگیرید. در نهایت این آرایه را به روش حبابی مرتب کنید</li>\n",
    "</ul>\n",
    "</div>\n"
   ]
  },
  {
   "cell_type": "code",
   "execution_count": 58,
   "metadata": {},
   "outputs": [
    {
     "name": "stdout",
     "output_type": "stream",
     "text": [
      "5\n",
      "3\n",
      "6\n",
      "1\n",
      "9\n",
      "10\n",
      "[10, 9, 6, 3, 1]\n"
     ]
    }
   ],
   "source": [
    "a = []\n",
    "n = int(input())\n",
    "\n",
    "for i in range(n):\n",
    "    #a.append(int(input()))\n",
    "    a+=[int(input())]\n",
    "    \n",
    "for i in range(n):\n",
    "    for j in range(n-1):\n",
    "        if a[j] < a[j+1]:\n",
    "            a[j], a[j+1] = a[j+1], a[j]\n",
    "\n",
    "print(a)"
   ]
  },
  {
   "cell_type": "markdown",
   "metadata": {},
   "source": [
    "<div class=\"persian\" style=\"direction:rtl\">\n",
    "<font face=\"XB Zar\" size=3>\n",
    "<h3>مساله دو</h3>\n",
    "<ul>\n",
    "<li>دو آرایه n عضوی در نظر بگیرید و یک آرایه دو بعدی n در 2 از روی آن دو آٰرایه بسازید</li>\n",
    "</ul>\n",
    "</div>\n"
   ]
  },
  {
   "cell_type": "code",
   "execution_count": 39,
   "metadata": {},
   "outputs": [
    {
     "name": "stdout",
     "output_type": "stream",
     "text": [
      "[(1, 5), (2, 1), (3, 2), (4, 3)]\n",
      "[[1, 5], [2, 1], [3, 2], [4, 3]]\n"
     ]
    }
   ],
   "source": [
    "a = [1, 2, 3, 4]\n",
    "b = [5, 1, 2, 3] \n",
    "print(list(zip(a,b))) #output is tuple\n",
    "c=list(map(list,zip(a,b)))\n",
    "print(c)"
   ]
  },
  {
   "cell_type": "code",
   "execution_count": 44,
   "metadata": {},
   "outputs": [
    {
     "name": "stdout",
     "output_type": "stream",
     "text": [
      "[[1, 5], [2, 1], [3, 2], [4, 3]]\n",
      "[1, 5]\n",
      "[[1, 5], [2, 1], [3, 2], [4, 3]]\n"
     ]
    }
   ],
   "source": [
    "a = [1, 2, 3, 4]\n",
    "b = [5, 1, 2, 3] \n",
    "output=[]\n",
    "for idx,val_a in enumerate(a):\n",
    "    output+=[[val_a,b[idx]]]\n",
    "print(output)\n",
    "# output = [[1, 5], [2, 1], [3, 2], [4, 3]]\n",
    "ouput=[]\n",
    "for i in range(len(a)):\n",
    "    output += [[a[i],b[i]]]\n",
    "print(output[0])\n",
    "\n",
    "#OR\n",
    "output = [[a[i], b[i]] for i in range(len(a))]\n",
    "print(output)\n",
    "\n"
   ]
  },
  {
   "cell_type": "markdown",
   "metadata": {},
   "source": [
    "<div class=\"persian\" style=\"direction:rtl\">\n",
    "<font face=\"XB Zar\" size=3>\n",
    "<h3>مساله سه</h3>\n",
    "<ul>\n",
    "<li>یک آرایه را درنظر بگیرید و همه اعضای آن که از نوع int هستند را در قالب یک آرایه جدید خروجی دهید </li>\n",
    "</ul>\n",
    "</font>\n",
    "</div>\n",
    "\n"
   ]
  },
  {
   "cell_type": "code",
   "execution_count": 63,
   "metadata": {
    "scrolled": true
   },
   "outputs": [
    {
     "name": "stdout",
     "output_type": "stream",
     "text": [
      "[2, 3, 4, 1, 99]\n",
      "[2, 3, 4, 1, 99]\n"
     ]
    }
   ],
   "source": [
    "a = [2, 3, 'salam', None, 4, [1, 2, 3], 3.4, 1, 99]\n",
    "b=[]\n",
    "for x in a:\n",
    "    if isinstance(x,int):\n",
    "        b+=[x]\n",
    "print(b)\n",
    "#OR\n",
    "b=[]\n",
    "b = [x for x in a if isinstance(x, int)]\n",
    "print(b)"
   ]
  },
  {
   "cell_type": "markdown",
   "metadata": {},
   "source": [
    "<div class=\"persian\" style=\"direction:rtl\">\n",
    "<font face=\"XB Zar\" size=3>\n",
    "<h3>مقداردهی اولیه لیست‌ها </h3>\n",
    "</font>\n",
    "</div>\n",
    "\n",
    "\n"
   ]
  },
  {
   "cell_type": "code",
   "execution_count": 2,
   "metadata": {},
   "outputs": [
    {
     "name": "stdout",
     "output_type": "stream",
     "text": [
      "[20, 0, 0, 0, 0, 0, 0, 0, 0, 0]\n",
      "[0, 0, 0, 0, 0, 0, 0, 0, 0, 0]\n",
      "[0, 0, 11, 0, 11, 12, 13, 0, 0, 0]\n",
      "[[1], [0], [0], [0], [0], [0], [0], [0], [0], [0]]\n",
      "10\n"
     ]
    }
   ],
   "source": [
    "arr = [0] * 10\n",
    "arr[0]=20\n",
    "print(arr)\n",
    "#OR\n",
    "arr = [0 for _ in range(10)]\n",
    "print(arr)\n",
    "\n",
    "arr[4] = arr[2] = 11\n",
    "arr[5],arr[6]=12, 13\n",
    "print(arr)\n",
    "\n",
    "arr2 = [[0] for _ in range(10)]\n",
    "arr2[0]=[1]\n",
    "arr2[0][0]=1\n",
    "print(arr2)\n",
    "print(len(arr2))\n"
   ]
  },
  {
   "cell_type": "code",
   "execution_count": 3,
   "metadata": {},
   "outputs": [
    {
     "name": "stdout",
     "output_type": "stream",
     "text": [
      "[[0], [0], [0], [0], [0], [0], [0], [0], [0], [0]]\n",
      "[[30], [0], [0], [0], [0], [0], [0], [0], [0], [0]]\n",
      "[[0], [0], [0], [0], [0], [0], [0], [0], [0], [0]]\n",
      "[[30], [0], [0], [0], [0], [0], [0], [0], [0], [0]]\n",
      "[[1, 2, 3], [1, 2, 3], [1, 2, 3], [1, 2, 3]]\n",
      "[[13, 2, 3], [13, 2, 3], [13, 2, 3], [13, 2, 3]]\n",
      "[[13, 2, 3], [1, 2, 3], [1, 2, 3]]\n"
     ]
    }
   ],
   "source": [
    "arr2=[[0]]*10\n",
    "print(arr2)\n",
    "arr2[0]=[30]#it is different because we use a addresss of new list\n",
    "arr[0][2]=10\n",
    "print(arr2)\n",
    "arr3= [[0] for _ in range(10)]\n",
    "print(arr3)\n",
    "arr3[0][0]=30\n",
    "print(arr3)\n",
    "# beware when using multiplication with lists and other objects\n",
    "arr = [[1,2,3]] * 4  # for example don't do this!\n",
    "print(arr)\n",
    "arr[0][0] = 13\n",
    "print(arr)\n",
    "\n",
    "# instead you can do this (we'll cover what this means later):\n",
    "arr = [[1,2,3] for _ in range(3)]\n",
    "arr[0][0] = 13\n",
    "print(arr)"
   ]
  },
  {
   "cell_type": "markdown",
   "metadata": {},
   "source": [
    "<div class=\"persian\" style=\"direction:rtl\">\n",
    "<font face=\"XB Zar\" size=3>\n",
    "تولید تمام اعداد اول تا پنجاه\n",
    "<br/>\n",
    "</font>\n",
    "</div>"
   ]
  },
  {
   "cell_type": "code",
   "execution_count": 69,
   "metadata": {},
   "outputs": [
    {
     "name": "stdout",
     "output_type": "stream",
     "text": [
      "[4, 6, 8, 10, 12, 14, 16, 18, 20, 22, 24, 26, 28, 30, 32, 34, 36, 38, 40, 42, 44, 46, 48, 6, 9, 12, 15, 18, 21, 24, 27, 30, 33, 36, 39, 42, 45, 48, 8, 12, 16, 20, 24, 28, 32, 36, 40, 44, 48, 10, 15, 20, 25, 30, 35, 40, 45, 12, 18, 24, 30, 36, 42, 48, 14, 21, 28, 35, 42, 49]\n",
      "[2, 3, 5, 7, 11, 13, 17, 19, 23, 29, 31, 37, 41, 43, 47]\n"
     ]
    }
   ],
   "source": [
    "noprimes = [j for i in range(2, 8) for j in range(i*2, 50, i)] \n",
    "print(noprimes)\n",
    "primes = [x for x in range(2, 50) if x not in noprimes] \n",
    "print(primes)"
   ]
  },
  {
   "cell_type": "markdown",
   "metadata": {},
   "source": [
    "<div class=\"persian\" style=\"direction:rtl\">\n",
    "<font face=\"XB Zar\" size=3>\n",
    "<h3>زوج (چند‌تایی)های مرتب (TUPLE)</h3>\n",
    "زوج‌های مرتب درست همانند لیست‌های غیرقابل تغییرند.\n",
    "یکی از برتری‌های آن نسبت به لیست این است که زوج‌های مرتب Hashable اند. پس مثلا می‌توان آن‌ها را به عنوان کلید در یک Dictionary (که بعدا می‌بینیم) نگه‌داشت. (نوع داده غیر قابل تغییر)\n",
    "<br/>\n",
    "</font>\n",
    "</div>"
   ]
  },
  {
   "cell_type": "code",
   "execution_count": 8,
   "metadata": {},
   "outputs": [
    {
     "name": "stdout",
     "output_type": "stream",
     "text": [
      "(10, 6, 19, [1, 2], ())\n",
      "<class 'tuple'>\n",
      "10\n",
      "(10, 6, 19, [1, 2])\n",
      "(10, 6, 19, [1, 2], (), 10, 6, 19, [1, 2], ())\n",
      "(10, 6, 19, [10, 2], ())\n"
     ]
    }
   ],
   "source": [
    "t = (10,6,19,[1,2], ())\n",
    "List=[10,12]\n",
    "print(t)\n",
    "print(type(t))\n",
    "print(t[0])\n",
    "print(t[0:-1])\n",
    "print(t*2)\n",
    "t[3][0]=10\n",
    "print(t)\n",
    "#t[1] = 4 # -> TypeError\n",
    "# t.append -> not supported"
   ]
  },
  {
   "cell_type": "code",
   "execution_count": 46,
   "metadata": {},
   "outputs": [
    {
     "name": "stdout",
     "output_type": "stream",
     "text": [
      "3\n"
     ]
    }
   ],
   "source": [
    "t=[1,2,3]\n",
    "a,b,c=t\n",
    "print(c)"
   ]
  },
  {
   "cell_type": "code",
   "execution_count": 17,
   "metadata": {},
   "outputs": [
    {
     "name": "stdout",
     "output_type": "stream",
     "text": [
      "10\n",
      "6\n",
      "19\n",
      "()\n",
      "---\n",
      "19\n",
      "6\n",
      "10\n"
     ]
    }
   ],
   "source": [
    "t = (10,6,19, ())\n",
    "a, b, c, d= t\n",
    "print(a)\n",
    "print(b)\n",
    "print(c)\n",
    "print(d)\n",
    "print('---')\n",
    "a, b, c = c, b, a  # 3-way swap in one statement!\n",
    "print(a)\n",
    "print(b)\n",
    "print(c)"
   ]
  },
  {
   "cell_type": "markdown",
   "metadata": {},
   "source": [
    "<div class=\"persian\" style=\"direction:rtl\">\n",
    "<font face=\"XB Zar\" size=3>\n",
    "<h3>مجموعه‌ها (Set)</h3>\n",
    "مجموعه‌ها در پایتون همانند HashSet در Java یا set در سی‌پلاس‌پلاس اند. (نوع داده تغییر پذیر)\n",
    "<br/>\n",
    "مجموعه‌ها می‌توانند حداکثر یکی از هر چیز را نگه‌داری کنند (البته هر چیزی که در آن ذخیره می‌شود باید Hashable باشد.\n",
    "پس لیست‌ها و مجموعه‌های دیگر و Dictionary‌ها را نمی‌توان در یک مجموعه نگه‌داشت) و نحوه نمایش عناصر مجموعه به صورت رندوم و بدون نظم خاصی است. از این رو با اندیس به عناصر مجموعه نمیتوان دسترسی داشت و با In و for می توان به آن ها دسترسی داشت. \n",
    "</font>\n",
    "</div>"
   ]
  },
  {
   "cell_type": "code",
   "execution_count": 9,
   "metadata": {},
   "outputs": [
    {
     "name": "stdout",
     "output_type": "stream",
     "text": [
      "s:  {'hasan', 1, 2, (1, 2), 3, 'a'}\n",
      "len(s):  6\n",
      "True\n",
      "False\n",
      "-- add:\n",
      "{'hasan', 1, 2, (1, 2), 3, 'a', 4}\n",
      "True\n"
     ]
    },
    {
     "ename": "TypeError",
     "evalue": "unhashable type: 'list'",
     "output_type": "error",
     "traceback": [
      "\u001b[1;31m---------------------------------------------------------------------------\u001b[0m",
      "\u001b[1;31mTypeError\u001b[0m                                 Traceback (most recent call last)",
      "Cell \u001b[1;32mIn[9], line 15\u001b[0m\n\u001b[0;32m     12\u001b[0m \u001b[38;5;28mprint\u001b[39m(s)\n\u001b[0;32m     13\u001b[0m \u001b[38;5;28mprint\u001b[39m(\u001b[38;5;241m4\u001b[39m \u001b[38;5;129;01min\u001b[39;00m s)\n\u001b[1;32m---> 15\u001b[0m \u001b[43ms\u001b[49m\u001b[38;5;241;43m.\u001b[39;49m\u001b[43madd\u001b[49m\u001b[43m(\u001b[49m\u001b[43m[\u001b[49m\u001b[38;5;241;43m2\u001b[39;49m\u001b[43m,\u001b[49m\u001b[38;5;241;43m3\u001b[39;49m\u001b[43m]\u001b[49m\u001b[43m)\u001b[49m\n\u001b[0;32m     17\u001b[0m \u001b[38;5;28mprint\u001b[39m(\u001b[38;5;124m'\u001b[39m\u001b[38;5;124m-- remove:\u001b[39m\u001b[38;5;124m'\u001b[39m)\n\u001b[0;32m     18\u001b[0m s\u001b[38;5;241m.\u001b[39mremove(\u001b[38;5;241m3\u001b[39m)\n",
      "\u001b[1;31mTypeError\u001b[0m: unhashable type: 'list'"
     ]
    }
   ],
   "source": [
    "s = {1,2,3,3, (1,2), 'hasan', 'a'}\n",
    "# List:[]\n",
    "# Tuple:()\n",
    "# Set:{}\n",
    "print(\"s: \",s)\n",
    "print(\"len(s): \" , len(s))\n",
    "print(1 in s)\n",
    "print(4 in s)\n",
    "\n",
    "print('-- add:')\n",
    "s.add(4)\n",
    "print(s)\n",
    "print(4 in s)\n",
    "\n",
    "#s.add([2,3])-->error\n",
    "\n",
    "print('-- remove:')\n",
    "s.remove(3)\n",
    "print(s)\n",
    "print(3 in s)\n",
    "\n",
    "for x in s:\n",
    "    print(x, end=' - ')\n",
    "#| and & are union and intersect, respectivel\n",
    "del s\n"
   ]
  },
  {
   "cell_type": "markdown",
   "metadata": {},
   "source": [
    "<div class=\"persian\" style=\"direction:rtl\">\n",
    "<font face=\"XB Zar\" size=3>\n",
    "<h3>دیکشنری</h3>\n",
    "دیکشنری‌ها\n",
    "(یا به اختصار dict)\n",
    "در پایتون بسیار مفیداند و همانند HashMap در Java و map در سی‌پلاس‌پلاس عمل می‌کنند. (نوع داده تغییر پذیر)\n",
    "<br/>\n",
    "در یک dict شما می‌توانید زوج‌های مرتب کلید و مقدار را ذخیره کرده و بعدا بر اساس کلید، مقدار‌ها را پیدا کنید.\n",
    "فقط دقت کنید که کلید باید Hashable باشد.\n",
    "</font>\n",
    "</div>"
   ]
  },
  {
   "cell_type": "markdown",
   "metadata": {},
   "source": [
    "<div>\n",
    "    <b>Mutable:</b> list, dict, set, byte array<br>\n",
    "    <b>Immutable:</b> int, float, complex, string, tuple, frozen set, bytes\n",
    "<br><br>\n",
    " \n",
    "A hashable object is an object that has a hash value that never changes during its lifetime. This means that its value can be used as a key in a dictionary or as an element in a set. If you go into the Python interpreter and type hash, open parenthesis, and then put your object in there, close , and hit Enter and it does not error, then that means that your object is hashable.   <br>\n",
    "    \n",
    " All immutable objects are hashable, but not all hashable objects are immutable. That’s just a rule, so anytime you see some example immutable object, you know for a fact that it’s hashable, but there are some cases where there are hashable objects that you actually can mutate. Python sets can only include hashable objects.\n",
    "<h3>\n",
    "    <b>Hashable Types:</b>\n",
    "</h3>\n",
    "    1. The atomic immutable types are all hashable, such as str, bytes, numeric types<br>\n",
    "    2. A frozen set is always hashable(its elements must be hashable by definition) (define by frozenset() function )<br>\n",
    "    3. A tuple is hashable only if all its elements are hashable<br>\n",
    "    4. User-defined types are hashable by default because their hash value is their id()<br>\n",
    "</div>\n"
   ]
  },
  {
   "cell_type": "code",
   "execution_count": 10,
   "metadata": {},
   "outputs": [
    {
     "name": "stdout",
     "output_type": "stream",
     "text": [
      "<class 'dict'>\n",
      "a:{1: 3, 'salam': 10, (1, 2, 3): [3, 4, 5]}\n",
      "type:list(a.items()): <class 'list'>\n",
      "Key: 1 and Value:3\n",
      "Key: salam and Value:10\n",
      "Key: (1, 2, 3) and Value:[3, 4, 5]\n",
      "a['ali']:2\n",
      "{1: 3, 'salam': 10, (1, 2, 3): [3, 4, 5], 'ali': 2}\n",
      "{1, 2, 3}\n",
      "{1: 3, 'salam': 10, (1, 2, 3): [3, 4, 5], 'ali': {1, 2, 3}}\n",
      "4\n"
     ]
    }
   ],
   "source": [
    "a = {1: 2, 'salam': 10, (1, 2, 3): [3, 4, 5], 1:3}\n",
    "\n",
    "# a = {{1}: 2, 'salam': 10, (1, 2, 3): [3, 4, 5]}#Error!\n",
    "#a = {1: 2, 'salam': 10, [3, 4, 5]:(1, 2, 3)} #Error!\n",
    "print(type(a))\n",
    "print(f\"a:{a}\")\n",
    "print(f\"type:list(a.items()): {type(list(a.items()))}\")\n",
    "\n",
    "for key, value in a.items():\n",
    "    print(f\"Key: {key} and Value:{value}\")\n",
    "\n",
    "a['ali'] = 1\n",
    "a['ali'] = 2\n",
    "print(f\"a['ali']:{a['ali']}\")\n",
    "print(a)\n",
    "a['ali'] = {1,2,2,3}\n",
    "print(a['ali'])\n",
    "print(a)\n",
    "print(len(a))\n",
    "del a"
   ]
  },
  {
   "cell_type": "markdown",
   "metadata": {},
   "source": [
    "<div class=\"persian\" style=\"direction:rtl\">\n",
    "<font face=\"XB Zar\" size=3>\n",
    "<h3>مساله یک</h3>\n",
    "یک دیکشنری را درنظر بگیرید و از روی آن دیکشنری معکوسش را بسازید و بررسی بکنید تابع نگاشت یک به یک بوده یا خیر\n",
    "    <br\\>\n",
    "        تابع item در دیکشنری ها کلید و مقادیر را با هم بر میگرداند\n",
    "</font>\n",
    "</div>\n",
    "\n",
    "\n"
   ]
  },
  {
   "cell_type": "code",
   "execution_count": 48,
   "metadata": {},
   "outputs": [
    {
     "name": "stdout",
     "output_type": "stream",
     "text": [
      "dict_items([(1, 2), (2, 3), (5, 3), (4, 5)])\n",
      "dict_keys([1, 2, 5, 4])\n",
      "dict_values([2, 3, 3, 5])\n",
      "{2: 1, 3: 5, 5: 4, 12: 8}\n",
      "False\n",
      "\n",
      "<class 'dict'>\n",
      "{2: 1, 3: 5, 5: 4, 12: 8}\n",
      "False\n"
     ]
    }
   ],
   "source": [
    "# a={1:2,3:4,5:6,....}-->10\n",
    "# b={2:1,4:3,6:5,...}--->10?\n",
    "a = {1:2, 2:3, 5:3, 4:5}\n",
    "b ={}\n",
    "print(a.items())\n",
    "print(a.keys())\n",
    "print(a.values())\n",
    "a.update({8:12})\n",
    "\n",
    "for key,value in a.items():\n",
    "    b[value]=key\n",
    "print(b)\n",
    "print(len(a) == len(b))\n",
    "print()\n",
    "b={}\n",
    "#b = set()\n",
    "print(type(b))\n",
    "b = {value: key for key, value in a.items()}\n",
    "print(b)\n",
    "print(len(a) == len(b))"
   ]
  },
  {
   "cell_type": "markdown",
   "metadata": {},
   "source": [
    "<div class=\"persian\" style=\"direction:rtl\">\n",
    "<font face=\"XB Zar\" size=3>\n",
    "<h3>مساله دو</h3>\n",
    "تعدادی اسم و فامیل را از ورودی بخواند و بگوید به ازای هر فامیلی چند اسم متمایز وجود داشته است.\n",
    "<br>\n",
    "برای اینکه اسم و فامیل را در یک خط ورودی بخوانید، از تابع split برای رشته‌ها استفاده کنید\n",
    "</font>\n",
    "</div>\n",
    "\n",
    "\n"
   ]
  },
  {
   "cell_type": "code",
   "execution_count": 49,
   "metadata": {},
   "outputs": [
    {
     "name": "stdin",
     "output_type": "stream",
     "text": [
      " 3\n",
      " ali ali \n",
      " fa fa\n",
      " sa sa\n"
     ]
    },
    {
     "name": "stdout",
     "output_type": "stream",
     "text": [
      "<class 'list'>\n",
      "[['ali', 'ali'], ['fa', 'fa'], ['sa', 'sa']]\n",
      "<class 'dict'>\n",
      "{'ali': {'ali'}, 'fa': {'fa'}, 'sa': {'sa'}}\n"
     ]
    }
   ],
   "source": [
    "#split() function helps us get multiple inputs from the user and assign them to \n",
    "#the respective variables in one line.\n",
    "#str1, str2, str3 = input(\"Enter three string\").split()\n",
    "#print(str1, str2, str3)\n",
    "#print(input().split())\n",
    "n = int(input())\n",
    "names = [input().split() for i in range(n)]\n",
    "print(type(names))\n",
    "print(names)\n",
    "count = {}\n",
    "print(type(count))\n",
    "\n",
    "for name, family in names:\n",
    "    if family in count:\n",
    "        count[family].add(name)\n",
    "    else:\n",
    "        count[family] = {name}\n",
    "        \n",
    "print(count)"
   ]
  },
  {
   "cell_type": "markdown",
   "metadata": {},
   "source": [
    "<div class=\"persian\" style=\"direction:rtl\">\n",
    "<font face=\"XB Zar\" size=3>\n",
    "<h3>توابع</h3>\n",
    "توابع در پایتون با کلمه‌ی کلیدی\n",
    "<span class=\"codeM\">def</span>\n",
    "تعریف می‌شوند.\n",
    "<br/>\n",
    "برای ورودی دادن به تابع می توانید از همان روش ساده‌ی ورودی‌های مرتب استفاده کنید. اما می‌توانید آن‌ها را با استفاده از نام‌شان نیز مقداردهی کنید.\n",
    "<br/>\n",
    "همچنین می‌توانید توابع را همانند دیگر اشیا در متغیر‌ها ذخیره کنید یا به توابع دیگر پاس بدهید.\n",
    "<br/>\n",
    "همچنین می‌توانید در داخل یک تابع، یک تابع دیگر تعریف کنید یا توابع بی‌نام\n",
    "(anonymous function)\n",
    "داشته باشید که البته خیلی هم به دردتان نمی‌خورد.\n",
    "(توابع بی‌نام با کلمه‌ی کلیدی\n",
    "<span class=\"codeM\">lambda</span>\n",
    "تعریف می‌شوند (lambda arguments: expression) )\n",
    "</font>\n",
    "</div>"
   ]
  },
  {
   "cell_type": "code",
   "execution_count": 17,
   "metadata": {},
   "outputs": [
    {
     "name": "stdout",
     "output_type": "stream",
     "text": [
      "max: 2\n",
      "None\n",
      "4\n"
     ]
    }
   ],
   "source": [
    "def find_max(a,b):\n",
    "    if a>b:\n",
    "        print(\"max:\" , a)\n",
    "    elif a==b:\n",
    "        print(\"Equal\")\n",
    "    else:\n",
    "         print(\"max:\" , b)\n",
    "\n",
    "\n",
    "def find_max2(a,b):\n",
    "    return(a if a>b else b)\n",
    "    \n",
    "print(find_max(b = 2,a =1))\n",
    "print(find_max2(3, 4))\n",
    "\n",
    "#or\n"
   ]
  },
  {
   "cell_type": "markdown",
   "metadata": {},
   "source": [
    "<div class=\"persian\" style=\"direction:rtl\">\n",
    "<font face=\"XB Zar\" size=3>\n",
    "نوع متغیرهای ورودی توابع مهم نیست و برنامه‌نویس باید خودش شخصا مراقب نوع این متغیرها باشد.\n",
    "<br>\n",
    "البته این قابلیت آزادی عمل بسیار زیادی به برنامه‌نویس می‌دهد و می‌تواند جهت ساده شدن کد از آن استفاده‌ی زیادی ببرد\n",
    "<h3>مساله یک</h3>\n",
    "تابعی بنویسید که یک تابع ورودی گرفته و آنرا روی تک‌تک اعضای ورودی دوم خود اعمال کند\n",
    "</font>\n",
    "</div>"
   ]
  },
  {
   "cell_type": "code",
   "execution_count": 18,
   "metadata": {},
   "outputs": [
    {
     "name": "stdout",
     "output_type": "stream",
     "text": [
      "[3, 9, 3]\n",
      "[[2, 4], [2, 3, 4, 5]]\n"
     ]
    }
   ],
   "source": [
    "def mapper(func, collection):\n",
    "    output = []\n",
    "    for element in collection:\n",
    "        output += [func(element)]\n",
    "    return output\n",
    "\n",
    "print(mapper(max, [[1, 2, 3], [-1, 0, 2,6,9], (3, 0, 3)]))\n",
    "#other example\n",
    "# List=[2,4,5,6,1,8]\n",
    "# del (List[-1])\n",
    "# print(List)\n",
    "\n",
    "def delEle(List, idx):\n",
    "    del(List[idx])\n",
    "    return List\n",
    "def example(function, collection):\n",
    "    output=[]\n",
    "    for idx,List in collection.items():\n",
    "        output+=[function(List,idx)]\n",
    "    return output\n",
    "print(example(delEle, {1:[2,3,4], 4:[2,3,4,5,6]}))\n",
    "# def hello(func, collection):\n",
    "#     output=[]\n",
    "#     for key,value in collection.items():\n",
    "#         output+=[func(value,key )]\n",
    "#     return output"
   ]
  },
  {
   "cell_type": "markdown",
   "metadata": {},
   "source": [
    "<div class=\"persian\" style=\"direction:rtl\">\n",
    "<font face=\"XB Zar\" size=3>\n",
    "تابع بالا در زبان پایتون تحت عنوان تابع map پیاده سازی شده است\n",
    "<br>\n",
    "حالا می‌توانیم برنامه‌ای بنویسیم که یک آرایه را در یک خط ورودی گرفته و جمع اعضای آن را محاسبه کند\n",
    "</font>\n",
    "</div>"
   ]
  },
  {
   "cell_type": "code",
   "execution_count": 85,
   "metadata": {},
   "outputs": [
    {
     "name": "stdout",
     "output_type": "stream",
     "text": [
      "12 354 678\n",
      "<class 'int'>\n",
      "12\n"
     ]
    }
   ],
   "source": [
    "arr = list(mapper(int, input().split()))\n",
    "print(type(arr[0]))\n",
    "print(arr[0])"
   ]
  },
  {
   "cell_type": "markdown",
   "metadata": {},
   "source": [
    "<div class=\"persian\" style=\"direction:rtl\">\n",
    "<font face=\"XB Zar\" size=3>\n",
    "<h3>انواع پارامتر‌های ورودی توابع</h3>\n",
    "در حین صدا زدن تابع، برای مقدار‌دهی پارامتر‌های ورودی آن می‌توانید طبق ترتیب تعریف آنها مقداردهی کنید(روش عادی) و\n",
    "یا با استفاده از اسم آنها مقدار دهی کنید \n",
    "<br>\n",
    "روش دوم برای مواقعی که تعداد ورودی ها زیاد است و حفظ کردن ترتیب آن‌ها ساده نیست بسیار مفید است\n",
    "<br>\n",
    "هم چنین روش دوم برای مواقعی که تعداد زیادی از ورودی‌ها مقدار پیش‌فرض دارند و ما فقط می‌خواهیم مقدار تعداد کمی از پارامترها را صراحتا تعیین کنیم مفید است\n",
    "</font>\n",
    "</div>"
   ]
  },
  {
   "cell_type": "code",
   "execution_count": 4,
   "metadata": {},
   "outputs": [],
   "source": [
    "def add_to_class(student, cls='0', force=False, check_grades=False, absense=0):\n",
    "    # do something...\n",
    "    pass\n",
    "\n",
    "add_to_class('ali', absense=2, cls='40254-1')\n",
    "#add_to_class('ali', '40254-1', absense=2)"
   ]
  },
  {
   "cell_type": "markdown",
   "metadata": {},
   "source": [
    "<div class=\"persian\" style=\"direction:rtl\">\n",
    "<font face=\"XB Zar\" size=3>\n",
    "توابع در پایتون هم‌چنین می‌توانند آرگومان‌های ورودی متغیر (varargs) داشته باشند\n",
    "<br>\n",
    "مثال: یک تابع که همه اعداد ورودی اش را جمع ‌میزند\n",
    "</font>\n",
    "</div>"
   ]
  },
  {
   "cell_type": "code",
   "execution_count": 29,
   "metadata": {
    "scrolled": true
   },
   "outputs": [
    {
     "name": "stdout",
     "output_type": "stream",
     "text": [
      "<class 'tuple'>\n",
      "Hello\n",
      "Welcome\n",
      "to\n",
      "GeeksforGeeks\n",
      "<class 'tuple'>\n",
      "<class 'tuple'>\n",
      "q\n",
      "1\n",
      "2\n",
      "4\n",
      "10\n",
      "ali\n",
      "-----------\n"
     ]
    }
   ],
   "source": [
    "# Python program to illustrate   \n",
    "# *args for variable number of arguments \n",
    "def myFun(*argv):  \n",
    "    print(type(argv))\n",
    "    for arg in argv:\n",
    "        print (arg)\n",
    "        \n",
    "    \n",
    "myFun('Hello', 'Welcome', 'to', 'GeeksforGeeks')  \n",
    "myFun()  \n",
    "myFun('q',1,2,4,10,'ali')  \n",
    "print('-----------')\n",
    "\n"
   ]
  },
  {
   "cell_type": "code",
   "execution_count": 38,
   "metadata": {
    "scrolled": true
   },
   "outputs": [
    {
     "name": "stdout",
     "output_type": "stream",
     "text": [
      "First argument : Hello\n",
      "Next argument through *argv : Welcome\n",
      "Next argument through *argv : to\n",
      "Next argument through *argv : GeeksforGeeks\n",
      "First argument : q\n",
      "Next argument through *argv : 1\n",
      "Next argument through *argv : 2\n",
      "Next argument through *argv : 4\n",
      "Next argument through *argv : 10\n",
      "Next argument through *argv : ali\n",
      "-----------\n"
     ]
    }
   ],
   "source": [
    "# Python program to illustrate *args with first extra argument \n",
    "def myFun(arg1, *argv): \n",
    "    print (\"First argument :\", arg1) \n",
    "    for arg in argv: \n",
    "        print(\"Next argument through *argv :\", arg) \n",
    "\n",
    "myFun('Hello', 'Welcome', 'to', 'GeeksforGeeks')  \n",
    "#myFun()   Error!\n",
    "myFun('q',1,2,4,10,'ali')  \n",
    "print('-----------')\n",
    "\n"
   ]
  },
  {
   "cell_type": "code",
   "execution_count": 11,
   "metadata": {},
   "outputs": [
    {
     "name": "stdout",
     "output_type": "stream",
     "text": [
      "<class 'dict'>\n",
      "<class 'str'>\n",
      "first == Geeks\n",
      "<class 'str'>\n",
      "mid == for\n",
      "<class 'str'>\n",
      "last == Geeks\n",
      "-----------\n"
     ]
    }
   ],
   "source": [
    "def myFun(**kwargs):  \n",
    "    print(type(kwargs))\n",
    "    for key, value in kwargs.items(): \n",
    "        print(type(key))\n",
    "        print (\"%s == %s\" %(key, value)) \n",
    "# Driver code \n",
    "myFun(first ='Geeks', mid ='for', last='Geeks')\n",
    "print('-----------')\n"
   ]
  },
  {
   "cell_type": "code",
   "execution_count": 20,
   "metadata": {},
   "outputs": [
    {
     "ename": "SyntaxError",
     "evalue": "positional argument follows keyword argument (51010044.py, line 8)",
     "output_type": "error",
     "traceback": [
      "\u001b[1;36m  Cell \u001b[1;32mIn[20], line 8\u001b[1;36m\u001b[0m\n\u001b[1;33m    print(sum(n=1, 2, 3, 4, 5))\u001b[0m\n\u001b[1;37m                             ^\u001b[0m\n\u001b[1;31mSyntaxError\u001b[0m\u001b[1;31m:\u001b[0m positional argument follows keyword argument\n"
     ]
    }
   ],
   "source": [
    "def sum(n, *args, **kwargs):\n",
    "    out = [0]\n",
    "    for a in args:\n",
    "        out += [a]\n",
    "    for key, value in kwargs.items():\n",
    "        out+=[key]\n",
    "        out+=[value]\n",
    "    return out\n",
    "\n",
    "print(sum(1, 2, 3, 4, 5, name='salam'))"
   ]
  },
  {
   "cell_type": "code",
   "execution_count": 14,
   "metadata": {},
   "outputs": [
    {
     "name": "stdout",
     "output_type": "stream",
     "text": [
      "[1, 3, 4, 5, 2]\n"
     ]
    }
   ],
   "source": [
    "def sum(n,z, *args):\n",
    "    out = [n]\n",
    "    for a in args:\n",
    "        out += [a]\n",
    "    out+=[z]\n",
    "    return out\n",
    "\n",
    "print(sum(1, 2, 3, 4, 5))"
   ]
  },
  {
   "cell_type": "markdown",
   "metadata": {},
   "source": [
    "<div class=\"persian\" style=\"direction:rtl\">\n",
    "<font face=\"XB Zar\" size=3>\n",
    "مطابق پارامتر‌های عادی، آرگومان های متغیر هم می‌توانند با اسم مشخص شوند که به آنها keyword arguments می‌گویند\n",
    "<br>\n",
    "فایده این روش چیست؟\n",
    "\n",
    "</font>\n",
    "</div>"
   ]
  },
  {
   "cell_type": "markdown",
   "metadata": {},
   "source": [
    "That is why when we iterate over the kwargs there doesn’t seem to be any order in which they were printed out."
   ]
  },
  {
   "cell_type": "markdown",
   "metadata": {},
   "source": [
    "<div class=\"persian\" style=\"direction:rtl\">\n",
    "<font face=\"XB Zar\" size=3>\n",
    "<h3>\n",
    "دربرگیرنده‌ها\n",
    "(Wrappers یا Decorators)\n",
    "</h3>\n",
    "شما در پایتون می‌توانید تابعی تعریف کنید که یک تابع دیگر را در بر میگیرد و در هنگام فراخوانی آن تابع، تابع دربرگیرنده فراخوانی می‌شود و ورودی اول تابع دربرگیرنده، تابع اصلی خواهد بود\n",
    "<br\\>\n",
    "   هدف از این کار اینه که بدون تغییر دادن بدنه تابع و نحوه فراخوانی آن، رفتار تابع را تغیر دهیم\n",
    "    \n",
    "</font>\n",
    "    \n",
    "</div>\n"
   ]
  },
  {
   "cell_type": "code",
   "execution_count": 106,
   "metadata": {},
   "outputs": [
    {
     "data": {
      "image/png": "[encoded data removed]",
      "text/plain": [
       "<IPython.core.display.Image object>"
      ]
     },
     "metadata": {},
     "output_type": "display_data"
    },
    {
     "data": {
      "image/png": "[encoded data removed]",
      "text/plain": [
       "<IPython.core.display.Image object>"
      ]
     },
     "metadata": {},
     "output_type": "display_data"
    }
   ],
   "source": [
    "from IPython.display import Image\n",
    "listOfImageNames = ['E:\\Lessons\\DataStructure\\Q&A\\Python\\Images\\Wrapper1.png',\n",
    "'E:\\Lessons\\DataStructure\\Q&A\\Python\\Images\\Wrapper2.png']\n",
    "for imageName in listOfImageNames:\n",
    "    display(Image(filename=imageName))"
   ]
  },
  {
   "cell_type": "code",
   "execution_count": 107,
   "metadata": {},
   "outputs": [
    {
     "data": {
      "image/png": "[encoded data removed]",
      "text/plain": [
       "<IPython.core.display.Image object>"
      ]
     },
     "execution_count": 107,
     "metadata": {},
     "output_type": "execute_result"
    }
   ],
   "source": [
    "Image(filename='E:\\Lessons\\DataStructure\\Q&A\\Python\\Images\\Python-Decorators-Explained.png') "
   ]
  },
  {
   "cell_type": "markdown",
   "metadata": {},
   "source": [
    "<div class=\"persian\" style=\"direction:rtl\">\n",
    "<font face=\"XB Zar\" size=3>\n",
    "یک مثال عملی از دربرگیرنده، تابعی است که زمان اجرای تابع دیگری را حساب می‌کند. به نوع ورودی تابع درونی wrapper دقت کنید</font>\n",
    "</div>\n"
   ]
  },
  {
   "cell_type": "code",
   "execution_count": null,
   "metadata": {},
   "outputs": [
    {
     "name": "stdout",
     "output_type": "stream",
     "text": [
      "time =  0.0\n",
      "2\n"
     ]
    }
   ],
   "source": [
    "from time import time as python_time\n",
    "\n",
    "def timer(func):\n",
    "    def wrapper(*args, **kwargs):\n",
    "        start = python_time()\n",
    "        ret = func(*args, **kwargs)  # change the input!\n",
    "        end = python_time()\n",
    "        print(\"time = \", end - start)\n",
    "        return ret\n",
    "    return wrapper\n",
    "   \n",
    "@timer\n",
    "def myfunc(a, b):\n",
    "    for i in range(a, b):\n",
    "        pass\n",
    "    return 2\n",
    "\n",
    "print(myfunc(1, 10)) # --> timer(func)(1, 10) --> wrapper (1, 10)\n",
    "print(myfunc(1, b=100000000000000))"
   ]
  },
  {
   "cell_type": "markdown",
   "metadata": {},
   "source": [
    "<div class=\"persian\" style=\"direction:rtl\">\n",
    "<font face=\"XB Zar\" size=3>\n",
    "<h3>کلاس‌ها</h3>\n",
    "برای تعریف یک کلاس در پایتون از کلمه‌ی کلیدی class استفاده می‌شود.\n",
    "بعضی از نام‌های توابع هر کلاس معانی خاصی دارند. این توابع همه در ابتدا و انتهایشان دو کاراکتر \n",
    "underline (_)\n",
    "دارند.\n",
    "برای مثال از این بین تابع\n",
    "<span class=\"codeM\">&#95;&#95;init&#95;&#95;</span>\n",
    "که کار همان constructor\n",
    "در زبان‌های دیگر را انجام می‌دهد.\n",
    "مثال‌های دیگر این نوع توابع:\n",
    "    <div class=\"codeM english\">\n",
    "        &#95;&#95;del&#95;&#95; (destructor),\n",
    "        &#95;&#95;eq&#95;&#95; (تابع مساوی),\n",
    "        &#95;&#95;str&#95;&#95; (<span class=\"persian\">toString در Java</span>)\n",
    "    </div>\n",
    "<div class=\"persian\" style=\"direction:rtl\">\n",
    "همچنین یکی از چیز‌هایی که شاید در پایتون با بقیه‌ی زبان‌ها فرق کند این است که در پایتون یک متغیر خاص به نام\n",
    "this\n",
    "نداریم. به جای آن خود شی به عنوان اولین ورودی به تابع پاس داده می‌شود. این ورودی چیز خاصی نیست اما در زبان پایتون از آن با نام \n",
    "self\n",
    "یاد می‌شود و بهتر است شما نیز این قاعده را رعایت کنید. پس هر تابع یکی کلاس حداقل یک ورودی دارد که اولین‌شان همان self است.\n",
    "</div>\n",
    "</font>\n",
    "</div>"
   ]
  },
  {
   "cell_type": "code",
   "execution_count": 17,
   "metadata": {},
   "outputs": [
    {
     "name": "stdout",
     "output_type": "stream",
     "text": [
      "0 3.1\n",
      "3.0 -4.5\n"
     ]
    }
   ],
   "source": [
    "class Complex:\n",
    "    sum=0\n",
    "    def __init__(self, realpart, imagpart):\n",
    "        self.r = realpart\n",
    "        self.i = imagpart\n",
    "#creates a new instance of the class and assigns this object to the local variable x\n",
    "\n",
    "\n",
    "x = Complex(3.0, -4.5)\n",
    "y = Complex(3.1, -4.5)\n",
    "x.sum=10\n",
    "print(y.sum, y.r)\n",
    "print(x.r, x.i)\n"
   ]
  },
  {
   "cell_type": "code",
   "execution_count": 7,
   "metadata": {},
   "outputs": [
    {
     "name": "stdout",
     "output_type": "stream",
     "text": [
      "canine\n",
      "canine\n",
      "Fido\n",
      "Buddy\n"
     ]
    }
   ],
   "source": [
    "class Dog:\n",
    "\n",
    "    kind = 'canine'         # class variable shared by all instances\n",
    "\n",
    "    def __init__(self, name):\n",
    "        self.name = name    # instance variable unique to each instance\n",
    "\n",
    "d = Dog('Fido')\n",
    "e = Dog('Buddy')\n",
    "print(d.kind)                  # shared by all dogs\n",
    "print(e.kind )                 # shared by all dogs\n",
    "print(d.name)                  # unique to d\n",
    "print(e.name )                 # unique to e\n"
   ]
  },
  {
   "cell_type": "code",
   "execution_count": 9,
   "metadata": {},
   "outputs": [
    {
     "name": "stdout",
     "output_type": "stream",
     "text": [
      "['roll over']\n",
      "['play dead', 'Hello']\n"
     ]
    }
   ],
   "source": [
    "class Dog:\n",
    "    def __init__(self, name):\n",
    "        self.name = name\n",
    "        self.tricks = []    # creates a new empty list for each dog\n",
    "\n",
    "    def add_trick(self, trick):\n",
    "        self.tricks.append(trick)\n",
    "\n",
    "d = Dog('Fido')\n",
    "e = Dog('Buddy')\n",
    "d.add_trick('roll over')\n",
    "e.add_trick('play dead')\n",
    "e.add_trick('Hello')\n",
    "print(d.tricks)\n",
    "print(e.tricks)\n"
   ]
  },
  {
   "cell_type": "code",
   "execution_count": 19,
   "metadata": {},
   "outputs": [
    {
     "name": "stdout",
     "output_type": "stream",
     "text": [
      "<__main__.Person object at 0x0000020FE1F92CD0>\n",
      "John\n",
      "36\n",
      "samand\n",
      "[1, 2, 3, 4, 2]\n",
      "Car model is samand\n"
     ]
    }
   ],
   "source": [
    "class Person:\n",
    "    def __init__(self, name, age):\n",
    "        self.name = name\n",
    "        self.age = age\n",
    "\n",
    "p1 = Person(\"John\", 36)\n",
    "print(p1)\n",
    "print(p1.name)\n",
    "print(p1.age)\n",
    "\n",
    "class Car:\n",
    "    model = \"samand\"\n",
    "    car=[1,2,3,4]\n",
    "    def PrintCarModel(self):\n",
    "        print(f\"Car model is {self.model}\")\n",
    "\n",
    "a=Car()\n",
    "b=Car()\n",
    "a.car.append(2)\n",
    "#a.car = 2\n",
    "print(Car.model)\n",
    "print(b.car)\n",
    "b.PrintCarModel()\n"
   ]
  },
  {
   "cell_type": "markdown",
   "metadata": {},
   "source": [
    "<div class=\"persian\" style=\"direction:rtl\">\n",
    "<font face=\"XB Zar\" size=3>\n",
    "هر کلاس می‌تواند تعدادی فیلد (همان متغیرهای کلاس) داشته باشد. شما می‌توانید در هر لحظه از کد به یک شی متغیری را اضافه کنید (مگر این که از قصد این قابلیت از شما گرفته شده باشد) ولی بهتر است که تمام فیلد‌های یک کلاس در داخل constructor\n",
    "تعریف شوند (یعنی مقدار اولیه بگیرند).\n",
    "همانطور که در مثال بالا دیدید، تعریف متغیر در فضای داخل کلاس باعث می‌شود که آن متغیر بین تمام متغیرهای کلاس  به اشتراک گذاشته شود. برای تعریف متغیر در سطح instance باید در توابع کلاس این‌کار را انجام داد\n",
    "</font>\n",
    "</div>"
   ]
  },
  {
   "cell_type": "code",
   "execution_count": 29,
   "metadata": {},
   "outputs": [
    {
     "name": "stdout",
     "output_type": "stream",
     "text": [
      "in Test class\n",
      "c is 0\n",
      "in Test class\n",
      "samand\n",
      "<__main__.Car object at 0x0000020FE208D490> 0 4 10 3\n"
     ]
    }
   ],
   "source": [
    "class Test:\n",
    "    def __init__(self, *args):\n",
    "        print(\"in Test class\")\n",
    "        self.b = Car()  # this is the best way\n",
    "        self.c = 0\n",
    "        self.other_value = 10\n",
    "            \n",
    "    def __str__(self):\n",
    "        return \"c is {}\".format(self.c)\n",
    "        \n",
    "    def add_attribute(self, val):\n",
    "        self.e = val\n",
    "\n",
    "o = Test()\n",
    "print(o)#call str\n",
    "o.d = 4 # you can even set an attribute outside of the class!\n",
    "o.add_attribute(3)\n",
    "Test.add_attribute(o, 3)\n",
    "o.b.model = \"salam\"\n",
    "r = Test(2, 3)\n",
    "\n",
    "print(r.b.model)\n",
    "\n",
    "print (o.b, o.c, o.d, o.other_value, o.e)"
   ]
  },
  {
   "cell_type": "code",
   "execution_count": 10,
   "metadata": {},
   "outputs": [
    {
     "name": "stdout",
     "output_type": "stream",
     "text": [
      "0\n",
      "Fereshte Dehghani logged in\n",
      "Ali Ahmadi logged in\n",
      "2\n",
      "Fereshte has logged out\n",
      "1\n",
      "['Ali', 'milad', 'sara', 'iman', 'Fereshte']\n",
      "Saleh Alaee logged in\n",
      "Allowed User:  ['Ali', 'milad', 'sara', 'iman', 'Fereshte', 'Saleh', 'mostafa']\n",
      "Logged Users:  ['Ali', 'Saleh']\n",
      "True\n"
     ]
    }
   ],
   "source": [
    "class User:\n",
    "    activeUsersCount = 0 #same for all objects, and constructed only one time for class no for its objects\n",
    "    allowedUsers = ['Ali', 'milad', 'sara', 'iman', \"Fereshte\"]\n",
    "    loggedInUsers = []\n",
    "    def __init__(self, userName, userFamily):\n",
    "        if userName not in User.allowedUsers:\n",
    "            raise ValueError(f\"{userName} can not login !!\")\n",
    "        self.name = userName\n",
    "        self.family = userFamily\n",
    "        User.activeUsersCount += 1\n",
    "        print(f\"{self.name} {self.family} logged in\")\n",
    "        User.loggedInUsers.append(userName)\n",
    "\n",
    "    def logOut(self):\n",
    "        print(f\"{self.name} has logged out\")\n",
    "        User.activeUsersCount -= 1\n",
    "        User.loggedInUsers.remove(self.name)\n",
    "\n",
    "print(User.activeUsersCount)\n",
    "Fereshte = User('Fereshte', 'Dehghani')\n",
    "Ali = User('Ali', 'Ahmadi')\n",
    "print(User.activeUsersCount)\n",
    "Fereshte.logOut()\n",
    "print(User.activeUsersCount)\n",
    "#Saleh = User(\"Saleh\", \"Alaee\")\n",
    "\n",
    "print(User.allowedUsers)\n",
    "#User.allowedUsers = ['Saleh', 'mostafa']\n",
    "User.allowedUsers.extend(['Saleh', 'mostafa'])\n",
    "Saleh = User(\"Saleh\", \"Alaee\")\n",
    "print(\"Allowed User: \",User.allowedUsers)\n",
    "print(\"Logged Users: \",User.loggedInUsers)\n",
    "print(User.allowedUsers == Saleh.allowedUsers)"
   ]
  },
  {
   "cell_type": "markdown",
   "metadata": {},
   "source": [
    "<div class=\"persian\" style=\"direction:rtl\">\n",
    "<font face=\"XB Zar\" size=3>\n",
    "<h3>مساله یک</h3>\n",
    "یک کلاس بسازید که متغیرهای کلاسی آن(در صورت عدم وجود) به صورت کاملا پویا و با مقدار پیش‌فرض اضافه شوند\n",
    "</font>\n",
    "</div>\n",
    "\n",
    "\n"
   ]
  },
  {
   "cell_type": "code",
   "execution_count": 26,
   "metadata": {},
   "outputs": [
    {
     "name": "stdout",
     "output_type": "stream",
     "text": [
      "323\n"
     ]
    }
   ],
   "source": [
    "class Obj:\n",
    "    def add_field(self, field_name, value):\n",
    "        setattr(self, field_name, 323)\n",
    "\n",
    "o = Obj()\n",
    "o.add_field('salam', 12)\n",
    "print(o.salam)"
   ]
  },
  {
   "cell_type": "markdown",
   "metadata": {},
   "source": [
    "<div class=\"persian\" style=\"direction:rtl\">\n",
    "<font face=\"XB Zar\" size=3>\n",
    "<h3>مساله دو</h3>\n",
    "یک تابع بنویسید که اسم کلاس، فیلدها و مقدارهای پیش‌فرض مدنظر را بگیرد و کار مساله قبلی را انجام دهد\n",
    "</font>\n",
    "</div>\n",
    "\n",
    "\n",
    "\n"
   ]
  },
  {
   "cell_type": "code",
   "execution_count": 30,
   "metadata": {},
   "outputs": [
    {
     "name": "stdout",
     "output_type": "stream",
     "text": [
      "in Test class\n",
      "in Test class\n"
     ]
    },
    {
     "ename": "NameError",
     "evalue": "name 'Human' is not defined",
     "output_type": "error",
     "traceback": [
      "\u001b[1;31m---------------------------------------------------------------------------\u001b[0m",
      "\u001b[1;31mNameError\u001b[0m                                 Traceback (most recent call last)",
      "Cell \u001b[1;32mIn[30], line 9\u001b[0m\n\u001b[0;32m      7\u001b[0m a \u001b[38;5;241m=\u001b[39m func(Test, \u001b[38;5;241m2\u001b[39m, \u001b[38;5;241m3\u001b[39m, name\u001b[38;5;241m=\u001b[39m\u001b[38;5;124m'\u001b[39m\u001b[38;5;124msalam\u001b[39m\u001b[38;5;124m'\u001b[39m, age\u001b[38;5;241m=\u001b[39m\u001b[38;5;241m12\u001b[39m, car\u001b[38;5;241m=\u001b[39m\u001b[38;5;241m222\u001b[39m)\n\u001b[0;32m      8\u001b[0m b \u001b[38;5;241m=\u001b[39m func(Test, k\u001b[38;5;241m=\u001b[39m\u001b[38;5;124m'\u001b[39m\u001b[38;5;124mhello\u001b[39m\u001b[38;5;124m'\u001b[39m)\n\u001b[1;32m----> 9\u001b[0m c \u001b[38;5;241m=\u001b[39m func(\u001b[43mHuman\u001b[49m, human\u001b[38;5;241m=\u001b[39m\u001b[38;5;241m1\u001b[39m, m\u001b[38;5;241m=\u001b[39m\u001b[38;5;124m'\u001b[39m\u001b[38;5;124m22\u001b[39m\u001b[38;5;124m'\u001b[39m)\n\u001b[0;32m     11\u001b[0m \u001b[38;5;28mprint\u001b[39m(b\u001b[38;5;241m.\u001b[39mk, \u001b[38;5;28mtype\u001b[39m(b), c\u001b[38;5;241m.\u001b[39mm)\n",
      "\u001b[1;31mNameError\u001b[0m: name 'Human' is not defined"
     ]
    }
   ],
   "source": [
    "def func(cls, *args, **kwargs):\n",
    "    instance = cls(*args)\n",
    "    for key, value in kwargs.items():\n",
    "        setattr (instance, key, value)\n",
    "    return instance\n",
    "        \n",
    "a = func(Test, 2, 3, name='salam', age=12, car=222)\n",
    "b = func(Test, k='hello')\n",
    "c = func(Human, human=1, m='22')\n",
    "\n",
    "print(b.k, type(b), c.m)\n"
   ]
  },
  {
   "cell_type": "markdown",
   "metadata": {},
   "source": [
    "<div class=\"persian\" style=\"direction:rtl\">\n",
    "<font face=\"XB Zar\" size=3>\n",
    "در پایتون می‌توانید وراثت نیز داشته باشید. برای این کار فقط کافی است نام کلاس پدر را در داخل یک جفت پرانتز جلوی تعریف نام کلاس قرار دهید (به مثال نگاه کنید).\n",
    "<br/>\n",
    "در پایتون همانند C++\n",
    "یک کلاس می‌تواند از چند کلاس ارث ببرد\n",
    ".فایده اش چیست؟\n",
    "</font>\n",
    "</div>"
   ]
  },
  {
   "cell_type": "code",
   "execution_count": 46,
   "metadata": {
    "scrolled": true
   },
   "outputs": [
    {
     "name": "stdout",
     "output_type": "stream",
     "text": [
      "Geek1 False\n",
      "Geek2 True\n"
     ]
    }
   ],
   "source": [
    "\n",
    "# A Python program to demonstrate inheritance \n",
    "\n",
    "# Base or Super class. Note object in bracket. \n",
    "# (Generally, object is made ancestor of all classes) \n",
    "# In Python 3.x \"class Person\" is \n",
    "# equivalent to \"class Person(object)\" \n",
    "class Person(object): \n",
    "\t\n",
    "\t# Constructor \n",
    "\tdef __init__(self, name): \n",
    "\t\tself.name = name \n",
    "\n",
    "\t# To get name \n",
    "\tdef getName(self): \n",
    "\t\treturn self.name \n",
    "\n",
    "\t# To check if this person is employee \n",
    "\tdef isEmployee(self): \n",
    "\t\treturn False\n",
    "\n",
    "\n",
    "# Inherited or Sub class (Note Person in bracket) \n",
    "class Employee(Person): \n",
    "\n",
    "\t# Here we return true \n",
    "\tdef isEmployee(self): \n",
    "\t\treturn True\n",
    "\n",
    "# Driver code \n",
    "emp = Person(\"Geek1\") # An Object of Person \n",
    "print(emp.getName(), emp.isEmployee()) \n",
    "\n",
    "emp = Employee(\"Geek2\") # An Object of Employee \n",
    "print(emp.getName(), emp.isEmployee()) \n"
   ]
  },
  {
   "cell_type": "code",
   "execution_count": 47,
   "metadata": {},
   "outputs": [
    {
     "name": "stdout",
     "output_type": "stream",
     "text": [
      "True\n",
      "False\n",
      "False\n",
      "True\n"
     ]
    }
   ],
   "source": [
    "class Base(object): \n",
    "    pass   # Empty Class \n",
    "  \n",
    "class Derived(Base): \n",
    "    pass   # Empty Class \n",
    "  \n",
    "# Driver Code \n",
    "print(issubclass(Derived, Base)) \n",
    "print(issubclass(Base, Derived)) \n",
    "  \n",
    "d = Derived() \n",
    "b = Base() \n",
    "  \n",
    "# b is not an instance of Derived \n",
    "print(isinstance(b, Derived)) \n",
    "  \n",
    "# But d is an instance of Base \n",
    "print(isinstance(d, Base)) "
   ]
  },
  {
   "cell_type": "code",
   "execution_count": 43,
   "metadata": {
    "scrolled": true
   },
   "outputs": [
    {
     "name": "stdout",
     "output_type": "stream",
     "text": [
      "In Class4\n",
      "In Class2\n",
      "In Class3\n",
      "In Class1\n"
     ]
    }
   ],
   "source": [
    "class Class1: \n",
    "    def m(self): \n",
    "        print(\"In Class1\") \n",
    "\n",
    "class Class2(Class1): \n",
    "    def m(self): \n",
    "        print(\"In Class2\") \n",
    "        super().m() \n",
    "\n",
    "class Class3(Class1): \n",
    "    def m(self): \n",
    "        print(\"In Class3\") \n",
    "        super().m() \n",
    "\n",
    "class Class4(Class2, Class3): \n",
    "    def m(self): \n",
    "        print(\"In Class4\")    \n",
    "        super().m() \n",
    "\n",
    "obj = Class4() \n",
    "obj.m() "
   ]
  },
  {
   "cell_type": "code",
   "execution_count": 52,
   "metadata": {},
   "outputs": [
    {
     "name": "stdout",
     "output_type": "stream",
     "text": [
      "Base1\n",
      "Base2\n",
      "Derived\n",
      "Geek1 Geek2\n"
     ]
    }
   ],
   "source": [
    "# Python example to show working of multiple \n",
    "# inheritance \n",
    "class Base1(object): \n",
    "\tdef __init__(self): \n",
    "\t\tself.str1 = \"Geek1\"\n",
    "\t\tprint(\"Base1\")\n",
    "\n",
    "class Base2(object): \n",
    "\tdef __init__(self): \n",
    "\t\tself.str2 = \"Geek2\"\t\t\n",
    "\t\tprint(\"Base2\")\n",
    "\n",
    "class Derived(Base1, Base2): \n",
    "\tdef __init__(self): \n",
    "\t\t\n",
    "\t\t# Calling constructors of Base1 \n",
    "\t\t# and Base2 classes \n",
    "\t\tBase1.__init__(self) \n",
    "\t\tBase2.__init__(self) \n",
    "\t\tprint(\"Derived\")\n",
    "\t\t\n",
    "\tdef printStrs(self): \n",
    "\t\tprint(self.str1, self.str2) \n",
    "\t\t\n",
    "\n",
    "ob = Derived() \n",
    "ob.printStrs() \n"
   ]
  },
  {
   "cell_type": "code",
   "execution_count": 45,
   "metadata": {},
   "outputs": [
    {
     "name": "stdout",
     "output_type": "stream",
     "text": [
      "in A\n",
      "in Test class\n",
      "child add\n",
      "dad add\n"
     ]
    }
   ],
   "source": [
    "class A():\n",
    "    def __init__(self):\n",
    "        print('in A')\n",
    "        super().__init__()\n",
    "\n",
    "    def add(self):\n",
    "        print(\"dad add\")\n",
    "        \n",
    "class B(A, Test):\n",
    "    def __init__(self):\n",
    "        super().__init__()\n",
    "        \n",
    "\n",
    "    def add(self):\n",
    "        print(\"child add\")\n",
    "        super().add()\n",
    "        \n",
    "b = B()\n",
    "b.add()"
   ]
  },
  {
   "cell_type": "markdown",
   "metadata": {},
   "source": [
    "<div class=\"persian\" style=\"direction:rtl\">\n",
    "<font face=\"XB Zar\" size=3>\n",
    "<h3>Import</h3>\n",
    "یکی از قوی‌ترین جنبه‌های زبان پایتون کتابخانه‌هایی اند که برای انجام تقریبا هرگونه کاری در پایتون نوشته شده‌اند. برای استفاده از این کتابخانه‌ها ابتدا باید آن‌ها را بر روی کامپیوتر (در کتابخانه‌های نسخه‌ی پایتون خود) نصب کنید. برای این کار چند روش متداول وجود دارد:\n",
    "<ul>\n",
    "    <li>استفاده از دستور pip: <br/><div class=\"codeM english\">pip install &lt;libraryName&gt;[==version]</div></li>\n",
    "    <li>استفاده از دستور easy_install:<br/><div class=\"codeM english\">easy_install &lt;libraryName&gt;</div></li>\n",
    "    <li>دانلود کردن و setup کردن به صورت دستی: <br/><div class=\"codeM english\"># download<br/># unzip or untar<br/># cd folder<br/>python setup.py install</div></li>\n",
    "</ul>\n",
    "<br/>\n",
    "حال می‌توانید از کتابخانه‌ی مورد نظر استفاده کنید. برای این کار باید ابتدا هر کتابخانه‌ای را که می‌خواهید از آن استفاده کنید را Import (همانند include در C++) کنید و سپس از آن استفاده کنید\n",
    "<h3>مساله</h3>\n",
    "زمان اجرای الگوریتم های مرتب‌سازی حبابی و درجی را از روی نمودار با هم مقایسه کنید\n",
    "\n",
    "</font>\n",
    "</div>"
   ]
  },
  {
   "cell_type": "code",
   "execution_count": 31,
   "metadata": {},
   "outputs": [
    {
     "data": {
      "text/plain": [
       "<Figure size 640x480 with 1 Axes>"
      ]
     },
     "metadata": {},
     "output_type": "display_data"
    }
   ],
   "source": [
    "import random\n",
    "import time\n",
    "import matplotlib.pyplot as plot\n",
    "\n",
    "def timer(func):\n",
    "    def wrapper(*args):\n",
    "        start = time.time()\n",
    "        ret = func(*args)  # change the input!\n",
    "        end = time.time()\n",
    "        return end - start\n",
    "    return wrapper\n",
    "\n",
    "@timer\n",
    "def bubble(a):\n",
    "    for i in range(len(a)):\n",
    "        for j in range(len(a)-i-1):\n",
    "            if a[j] > a[j+1]:\n",
    "                a[j], a[j+1] = a[j+1], a[j]\n",
    "\n",
    "\n",
    "@timer\n",
    "def selection(a):\n",
    "    for i in range(len(a)):\n",
    "        max_index = -1\n",
    "        for j in range(len(a)-i):\n",
    "            if max_index == -1 or a[j] > a[max_index]:\n",
    "                max_index = j\n",
    "        a[len(a)-i-1], a[max_index] = a[max_index], a[len(a)-i-1]\n",
    "@timer\n",
    "def insertion(a):\n",
    "    n = len(a)\n",
    "    for i in range(n):\n",
    "        while i > 0 and a[i] < a[i-1]:\n",
    "            a[i], a[i-1] = a[i-1], a[i]\n",
    "            i -= 1\n",
    "        \n",
    "arr = [random.randint(1, 10000) for i in range(5000)]\n",
    "plot.plot([bubble(arr[:i]) for i in range(500)], 'r', [selection(arr[:i]) for i in range(500)], 'b', \n",
    "         [insertion(arr[:i]) for i in range(500)], 'y')\n",
    "plot.show()"
   ]
  },
  {
   "cell_type": "code",
   "execution_count": 64,
   "metadata": {},
   "outputs": [
    {
     "name": "stdout",
     "output_type": "stream",
     "text": [
      "<class 'dict'>\n",
      "0 Ten\n",
      "1 Twenty\n",
      "2 Ten\n",
      "{'Ten': [10, 30], 'Twenty': [20]}\n"
     ]
    }
   ],
   "source": [
    "keys = ['Ten', 'Twenty', 'Ten']\n",
    "values = [10, 20, 30]\n",
    "output={}\n",
    "print(type(output))\n",
    "for index,k in enumerate(keys):\n",
    "    print(index,k)\n",
    "    if k in output.keys():\n",
    "        output[k]+=[values[index]]\n",
    "    else:\n",
    "        output[k]=[values[index]]\n",
    "        \n",
    "print(output)"
   ]
  },
  {
   "cell_type": "code",
   "execution_count": 5,
   "metadata": {},
   "outputs": [
    {
     "name": "stdout",
     "output_type": "stream",
     "text": [
      "please enter num1,2,3\n",
      "[2, 3, 4, 5, 1, 2, 3]\n"
     ]
    }
   ],
   "source": [
    "\n",
    "List+=input(\"please enter num\").split(',')\n",
    "results = list(map(int, List))\n",
    "print(results)"
   ]
  },
  {
   "cell_type": "code",
   "execution_count": null,
   "metadata": {},
   "outputs": [],
   "source": []
  }
 ],
 "metadata": {
  "kernelspec": {
   "display_name": "Python 3 (ipykernel)",
   "language": "python",
   "name": "python3"
  },
  "language_info": {
   "codemirror_mode": {
    "name": "ipython",
    "version": 3
   },
   "file_extension": ".py",
   "mimetype": "text/x-python",
   "name": "python",
   "nbconvert_exporter": "python",
   "pygments_lexer": "ipython3",
   "version": "3.12.5"
  }
 },
 "nbformat": 4,
 "nbformat_minor": 4
}
